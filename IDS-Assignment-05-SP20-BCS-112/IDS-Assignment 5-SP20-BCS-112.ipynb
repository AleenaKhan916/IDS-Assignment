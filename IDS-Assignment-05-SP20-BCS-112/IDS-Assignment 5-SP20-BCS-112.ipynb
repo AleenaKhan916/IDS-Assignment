{
 "cells": [
  {
   "cell_type": "code",
   "execution_count": 6,
   "id": "401da781",
   "metadata": {},
   "outputs": [],
   "source": [
    "import pandas as pd\n",
    "from sklearn.feature_extraction.text import CountVectorizer, TfidfVectorizer, TfidfTransformer\n",
    " \n",
    "s1=\"sunshine state enjoy sunshine\"\n",
    "s2=\"brown fox jump high, brown fox run\"\n",
    "s3=\"sunshine state fox run fast\""
   ]
  },
  {
   "cell_type": "code",
   "execution_count": 4,
   "id": "0f82d065",
   "metadata": {},
   "outputs": [
    {
     "data": {
      "text/plain": [
       "['sunshine state enjoy sunshine',\n",
       " 'brown fox jump high, brown fox run',\n",
       " 'sunshine state fox run fast']"
      ]
     },
     "execution_count": 4,
     "metadata": {},
     "output_type": "execute_result"
    }
   ],
   "source": [
    "corpus = [s1, s2, s3]\n",
    "corpus"
   ]
  },
  {
   "cell_type": "code",
   "execution_count": 28,
   "id": "96f7b264",
   "metadata": {},
   "outputs": [
    {
     "data": {
      "text/html": [
       "<div>\n",
       "<style scoped>\n",
       "    .dataframe tbody tr th:only-of-type {\n",
       "        vertical-align: middle;\n",
       "    }\n",
       "\n",
       "    .dataframe tbody tr th {\n",
       "        vertical-align: top;\n",
       "    }\n",
       "\n",
       "    .dataframe thead th {\n",
       "        text-align: right;\n",
       "    }\n",
       "</style>\n",
       "<table border=\"1\" class=\"dataframe\">\n",
       "  <thead>\n",
       "    <tr style=\"text-align: right;\">\n",
       "      <th></th>\n",
       "      <th>brown</th>\n",
       "      <th>enjoy</th>\n",
       "      <th>fast</th>\n",
       "      <th>fox</th>\n",
       "      <th>high</th>\n",
       "      <th>jump</th>\n",
       "      <th>run</th>\n",
       "      <th>state</th>\n",
       "      <th>sunshine</th>\n",
       "    </tr>\n",
       "  </thead>\n",
       "  <tbody>\n",
       "    <tr>\n",
       "      <th>0</th>\n",
       "      <td>0</td>\n",
       "      <td>1</td>\n",
       "      <td>0</td>\n",
       "      <td>0</td>\n",
       "      <td>0</td>\n",
       "      <td>0</td>\n",
       "      <td>0</td>\n",
       "      <td>1</td>\n",
       "      <td>2</td>\n",
       "    </tr>\n",
       "    <tr>\n",
       "      <th>1</th>\n",
       "      <td>2</td>\n",
       "      <td>0</td>\n",
       "      <td>0</td>\n",
       "      <td>2</td>\n",
       "      <td>1</td>\n",
       "      <td>1</td>\n",
       "      <td>1</td>\n",
       "      <td>0</td>\n",
       "      <td>0</td>\n",
       "    </tr>\n",
       "    <tr>\n",
       "      <th>2</th>\n",
       "      <td>0</td>\n",
       "      <td>0</td>\n",
       "      <td>1</td>\n",
       "      <td>1</td>\n",
       "      <td>0</td>\n",
       "      <td>0</td>\n",
       "      <td>1</td>\n",
       "      <td>1</td>\n",
       "      <td>1</td>\n",
       "    </tr>\n",
       "  </tbody>\n",
       "</table>\n",
       "</div>"
      ],
      "text/plain": [
       "   brown  enjoy  fast  fox  high  jump  run  state  sunshine\n",
       "0      0      1     0    0     0     0    0      1         2\n",
       "1      2      0     0    2     1     1    1      0         0\n",
       "2      0      0     1    1     0     0    1      1         1"
      ]
     },
     "execution_count": 28,
     "metadata": {},
     "output_type": "execute_result"
    }
   ],
   "source": [
    "boW = CountVectorizer(stop_words = 'english')\n",
    "vectors = boW.fit_transform(corpus)\n",
    "features = boW.get_feature_names_out()\n",
    "\n",
    "boW_df = pd.DataFrame(data = vectors.toarray(), columns=features)\n",
    "boW_df"
   ]
  },
  {
   "cell_type": "code",
   "execution_count": 27,
   "id": "7bdc10ea",
   "metadata": {},
   "outputs": [
    {
     "data": {
      "text/html": [
       "<div>\n",
       "<style scoped>\n",
       "    .dataframe tbody tr th:only-of-type {\n",
       "        vertical-align: middle;\n",
       "    }\n",
       "\n",
       "    .dataframe tbody tr th {\n",
       "        vertical-align: top;\n",
       "    }\n",
       "\n",
       "    .dataframe thead th {\n",
       "        text-align: right;\n",
       "    }\n",
       "</style>\n",
       "<table border=\"1\" class=\"dataframe\">\n",
       "  <thead>\n",
       "    <tr style=\"text-align: right;\">\n",
       "      <th></th>\n",
       "      <th>brown</th>\n",
       "      <th>enjoy</th>\n",
       "      <th>fast</th>\n",
       "      <th>fox</th>\n",
       "      <th>high</th>\n",
       "      <th>jump</th>\n",
       "      <th>run</th>\n",
       "      <th>state</th>\n",
       "      <th>sunshine</th>\n",
       "    </tr>\n",
       "  </thead>\n",
       "  <tbody>\n",
       "    <tr>\n",
       "      <th>S1</th>\n",
       "      <td>0.000000</td>\n",
       "      <td>0.50689</td>\n",
       "      <td>0.000000</td>\n",
       "      <td>0.000000</td>\n",
       "      <td>0.000000</td>\n",
       "      <td>0.000000</td>\n",
       "      <td>0.000000</td>\n",
       "      <td>0.385503</td>\n",
       "      <td>0.771006</td>\n",
       "    </tr>\n",
       "    <tr>\n",
       "      <th>S2</th>\n",
       "      <td>0.670703</td>\n",
       "      <td>0.00000</td>\n",
       "      <td>0.000000</td>\n",
       "      <td>0.510087</td>\n",
       "      <td>0.335352</td>\n",
       "      <td>0.335352</td>\n",
       "      <td>0.255044</td>\n",
       "      <td>0.000000</td>\n",
       "      <td>0.000000</td>\n",
       "    </tr>\n",
       "    <tr>\n",
       "      <th>S3</th>\n",
       "      <td>0.000000</td>\n",
       "      <td>0.00000</td>\n",
       "      <td>0.549351</td>\n",
       "      <td>0.417796</td>\n",
       "      <td>0.000000</td>\n",
       "      <td>0.000000</td>\n",
       "      <td>0.417796</td>\n",
       "      <td>0.417796</td>\n",
       "      <td>0.417796</td>\n",
       "    </tr>\n",
       "  </tbody>\n",
       "</table>\n",
       "</div>"
      ],
      "text/plain": [
       "       brown    enjoy      fast       fox      high      jump       run  \\\n",
       "S1  0.000000  0.50689  0.000000  0.000000  0.000000  0.000000  0.000000   \n",
       "S2  0.670703  0.00000  0.000000  0.510087  0.335352  0.335352  0.255044   \n",
       "S3  0.000000  0.00000  0.549351  0.417796  0.000000  0.000000  0.417796   \n",
       "\n",
       "       state  sunshine  \n",
       "S1  0.385503  0.771006  \n",
       "S2  0.000000  0.000000  \n",
       "S3  0.417796  0.417796  "
      ]
     },
     "execution_count": 27,
     "metadata": {},
     "output_type": "execute_result"
    }
   ],
   "source": [
    "tfidf = TfidfVectorizer(stop_words = 'english',analyzer= 'word',smooth_idf=True)\n",
    "matrix = tfidf.fit_transform(corpus)\n",
    "features = tfidf.get_feature_names_out()\n",
    "\n",
    "countvect = pd.DataFrame(data = matrix.toarray(),columns = features)\n",
    "countvect"
   ]
  },
  {
   "cell_type": "markdown",
   "id": "5e7fb0cd",
   "metadata": {},
   "source": [
    "# Cosine Similarity"
   ]
  },
  {
   "cell_type": "code",
   "execution_count": 33,
   "id": "e971275f",
   "metadata": {},
   "outputs": [],
   "source": [
    "from sklearn.metrics.pairwise import cosine_similarity\n",
    "import numpy as np\n",
    "\n"
   ]
  },
  {
   "cell_type": "code",
   "execution_count": 34,
   "id": "ada34901",
   "metadata": {},
   "outputs": [],
   "source": [
    "S1=np.array([[0,1,0,0,0,0,0,1,2]])\n",
    "S3=np.array([[0,0,1,1,0,0,1,1,1]])\n"
   ]
  },
  {
   "cell_type": "code",
   "execution_count": 35,
   "id": "37948791",
   "metadata": {},
   "outputs": [
    {
     "name": "stdout",
     "output_type": "stream",
     "text": [
      "[[0.54772256]]\n"
     ]
    }
   ],
   "source": [
    "print(cosine_similarity(S1, S3))"
   ]
  }
 ],
 "metadata": {
  "kernelspec": {
   "display_name": "Python 3 (ipykernel)",
   "language": "python",
   "name": "python3"
  },
  "language_info": {
   "codemirror_mode": {
    "name": "ipython",
    "version": 3
   },
   "file_extension": ".py",
   "mimetype": "text/x-python",
   "name": "python",
   "nbconvert_exporter": "python",
   "pygments_lexer": "ipython3",
   "version": "3.9.12"
  }
 },
 "nbformat": 4,
 "nbformat_minor": 5
}
