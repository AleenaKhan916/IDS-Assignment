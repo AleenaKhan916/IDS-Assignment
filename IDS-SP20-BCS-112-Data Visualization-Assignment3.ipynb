{
 "cells": [
  {
   "cell_type": "markdown",
   "metadata": {
    "id": "gC4OBRBTMm4n"
   },
   "source": [
    "**Name=Aleena Khan\n",
    "Roll no:SP20-BCS-112\n",
    "Section:Group 4\n",
    "\n",
    "**We have done cleaning and normalizaling data by**\n",
    "\n",
    "1.   Converting data in columns to same data type\n",
    "2.   Removing ambigous data\n"
   ]
  },
  {
   "cell_type": "code",
   "execution_count": 82,
   "metadata": {
    "id": "vH2GhmMiOQiV"
   },
   "outputs": [],
   "source": [
    "import matplotlib.pyplot as plt\n",
    "import numpy as np\n",
    "import pandas as pd\n",
    "import seaborn as sns"
   ]
  },
  {
   "cell_type": "code",
   "execution_count": 83,
   "metadata": {
    "colab": {
     "base_uri": "https://localhost:8080/",
     "height": 424
    },
    "executionInfo": {
     "elapsed": 374,
     "status": "ok",
     "timestamp": 1666584497721,
     "user": {
      "displayName": "ALEENA KHAN",
      "userId": "07483555042704685188"
     },
     "user_tz": -300
    },
    "id": "lFKV62l0Ofte",
    "outputId": "cd273219-e0ee-44fe-8ab8-1f2a10202df0"
   },
   "outputs": [
    {
     "data": {
      "text/html": [
       "<div>\n",
       "<style scoped>\n",
       "    .dataframe tbody tr th:only-of-type {\n",
       "        vertical-align: middle;\n",
       "    }\n",
       "\n",
       "    .dataframe tbody tr th {\n",
       "        vertical-align: top;\n",
       "    }\n",
       "\n",
       "    .dataframe thead th {\n",
       "        text-align: right;\n",
       "    }\n",
       "</style>\n",
       "<table border=\"1\" class=\"dataframe\">\n",
       "  <thead>\n",
       "    <tr style=\"text-align: right;\">\n",
       "      <th></th>\n",
       "      <th>Name</th>\n",
       "      <th>Gender</th>\n",
       "      <th>HSSC-1</th>\n",
       "      <th>HSSC-2</th>\n",
       "      <th>CGPA</th>\n",
       "      <th>FavoriteColor</th>\n",
       "      <th>BirthMonth</th>\n",
       "      <th>Weight</th>\n",
       "    </tr>\n",
       "  </thead>\n",
       "  <tbody>\n",
       "    <tr>\n",
       "      <th>0</th>\n",
       "      <td>Muhammad Usman</td>\n",
       "      <td>Male</td>\n",
       "      <td>440</td>\n",
       "      <td>369</td>\n",
       "      <td>2.80</td>\n",
       "      <td>Black</td>\n",
       "      <td>March</td>\n",
       "      <td>77</td>\n",
       "    </tr>\n",
       "    <tr>\n",
       "      <th>1</th>\n",
       "      <td>Taha Ishfaq</td>\n",
       "      <td>Male</td>\n",
       "      <td>415</td>\n",
       "      <td>408</td>\n",
       "      <td>2.73</td>\n",
       "      <td>Red</td>\n",
       "      <td>March</td>\n",
       "      <td>72</td>\n",
       "    </tr>\n",
       "    <tr>\n",
       "      <th>2</th>\n",
       "      <td>Muhammad Hamdan</td>\n",
       "      <td>Male</td>\n",
       "      <td>388</td>\n",
       "      <td>321</td>\n",
       "      <td>2.78</td>\n",
       "      <td>Black</td>\n",
       "      <td>October</td>\n",
       "      <td>53</td>\n",
       "    </tr>\n",
       "    <tr>\n",
       "      <th>3</th>\n",
       "      <td>Syeda Maham Gillani</td>\n",
       "      <td>Female</td>\n",
       "      <td>412</td>\n",
       "      <td>440</td>\n",
       "      <td>3.11</td>\n",
       "      <td>Blue</td>\n",
       "      <td>February</td>\n",
       "      <td>63</td>\n",
       "    </tr>\n",
       "    <tr>\n",
       "      <th>4</th>\n",
       "      <td>Umar Wasim</td>\n",
       "      <td>Male</td>\n",
       "      <td>364</td>\n",
       "      <td>469</td>\n",
       "      <td>2.42</td>\n",
       "      <td>Black</td>\n",
       "      <td>October</td>\n",
       "      <td>80</td>\n",
       "    </tr>\n",
       "    <tr>\n",
       "      <th>...</th>\n",
       "      <td>...</td>\n",
       "      <td>...</td>\n",
       "      <td>...</td>\n",
       "      <td>...</td>\n",
       "      <td>...</td>\n",
       "      <td>...</td>\n",
       "      <td>...</td>\n",
       "      <td>...</td>\n",
       "    </tr>\n",
       "    <tr>\n",
       "      <th>129</th>\n",
       "      <td>M Abubakar Malik</td>\n",
       "      <td>Male</td>\n",
       "      <td>410</td>\n",
       "      <td>349</td>\n",
       "      <td>2.94</td>\n",
       "      <td>Blue</td>\n",
       "      <td>Feburary</td>\n",
       "      <td>65</td>\n",
       "    </tr>\n",
       "    <tr>\n",
       "      <th>130</th>\n",
       "      <td>Muhammad Ali</td>\n",
       "      <td>Male</td>\n",
       "      <td>403</td>\n",
       "      <td>390</td>\n",
       "      <td>2.52</td>\n",
       "      <td>Yellow</td>\n",
       "      <td>October</td>\n",
       "      <td>81</td>\n",
       "    </tr>\n",
       "    <tr>\n",
       "      <th>131</th>\n",
       "      <td>Shafaqat Ali</td>\n",
       "      <td>Male</td>\n",
       "      <td>424</td>\n",
       "      <td>824</td>\n",
       "      <td>3.07</td>\n",
       "      <td>Black</td>\n",
       "      <td>May</td>\n",
       "      <td>58</td>\n",
       "    </tr>\n",
       "    <tr>\n",
       "      <th>132</th>\n",
       "      <td>Ammar Asif</td>\n",
       "      <td>Male</td>\n",
       "      <td>351</td>\n",
       "      <td>423</td>\n",
       "      <td>2.52</td>\n",
       "      <td>Black</td>\n",
       "      <td>December</td>\n",
       "      <td>68</td>\n",
       "    </tr>\n",
       "    <tr>\n",
       "      <th>133</th>\n",
       "      <td>Muhammad Zubair</td>\n",
       "      <td>Male</td>\n",
       "      <td>361</td>\n",
       "      <td>335</td>\n",
       "      <td>2.81</td>\n",
       "      <td>Black</td>\n",
       "      <td>March</td>\n",
       "      <td>58</td>\n",
       "    </tr>\n",
       "  </tbody>\n",
       "</table>\n",
       "<p>134 rows × 8 columns</p>\n",
       "</div>"
      ],
      "text/plain": [
       "                    Name  Gender  HSSC-1  HSSC-2  CGPA FavoriteColor  \\\n",
       "0         Muhammad Usman    Male     440     369  2.80         Black   \n",
       "1            Taha Ishfaq    Male     415     408  2.73           Red   \n",
       "2        Muhammad Hamdan    Male     388     321  2.78         Black   \n",
       "3    Syeda Maham Gillani  Female     412     440  3.11          Blue   \n",
       "4             Umar Wasim    Male     364     469  2.42         Black   \n",
       "..                   ...     ...     ...     ...   ...           ...   \n",
       "129     M Abubakar Malik    Male     410     349  2.94          Blue   \n",
       "130         Muhammad Ali    Male     403     390  2.52        Yellow   \n",
       "131         Shafaqat Ali    Male     424     824  3.07         Black   \n",
       "132          Ammar Asif     Male     351     423  2.52         Black   \n",
       "133      Muhammad Zubair    Male     361     335  2.81         Black   \n",
       "\n",
       "    BirthMonth  Weight  \n",
       "0        March      77  \n",
       "1        March      72  \n",
       "2      October      53  \n",
       "3     February      63  \n",
       "4     October       80  \n",
       "..         ...     ...  \n",
       "129   Feburary      65  \n",
       "130    October      81  \n",
       "131        May      58  \n",
       "132  December       68  \n",
       "133      March      58  \n",
       "\n",
       "[134 rows x 8 columns]"
      ]
     },
     "execution_count": 83,
     "metadata": {},
     "output_type": "execute_result"
    }
   ],
   "source": [
    "df = pd.read_csv('the-hello-dataset-fa22-ll.csv')\n",
    "df"
   ]
  },
  {
   "cell_type": "markdown",
   "metadata": {
    "id": "UqZHOCf2OZE3"
   },
   "source": [
    "**Print the list of all students whose first name starts with letter the 'H**"
   ]
  },
  {
   "cell_type": "code",
   "execution_count": 84,
   "metadata": {
    "id": "3zFxlEkXQR99"
   },
   "outputs": [
    {
     "data": {
      "text/html": [
       "<div>\n",
       "<style scoped>\n",
       "    .dataframe tbody tr th:only-of-type {\n",
       "        vertical-align: middle;\n",
       "    }\n",
       "\n",
       "    .dataframe tbody tr th {\n",
       "        vertical-align: top;\n",
       "    }\n",
       "\n",
       "    .dataframe thead th {\n",
       "        text-align: right;\n",
       "    }\n",
       "</style>\n",
       "<table border=\"1\" class=\"dataframe\">\n",
       "  <thead>\n",
       "    <tr style=\"text-align: right;\">\n",
       "      <th></th>\n",
       "      <th>Name</th>\n",
       "      <th>Gender</th>\n",
       "      <th>HSSC-1</th>\n",
       "      <th>HSSC-2</th>\n",
       "      <th>CGPA</th>\n",
       "      <th>FavoriteColor</th>\n",
       "      <th>BirthMonth</th>\n",
       "      <th>Weight</th>\n",
       "    </tr>\n",
       "  </thead>\n",
       "  <tbody>\n",
       "    <tr>\n",
       "      <th>9</th>\n",
       "      <td>Hamza Naveed</td>\n",
       "      <td>Male</td>\n",
       "      <td>435</td>\n",
       "      <td>459</td>\n",
       "      <td>2.80</td>\n",
       "      <td>Blue</td>\n",
       "      <td>May</td>\n",
       "      <td>58</td>\n",
       "    </tr>\n",
       "    <tr>\n",
       "      <th>21</th>\n",
       "      <td>Habib Ullah</td>\n",
       "      <td>Male</td>\n",
       "      <td>399</td>\n",
       "      <td>434</td>\n",
       "      <td>3.35</td>\n",
       "      <td>Mustard</td>\n",
       "      <td>April</td>\n",
       "      <td>60</td>\n",
       "    </tr>\n",
       "    <tr>\n",
       "      <th>22</th>\n",
       "      <td>Hunain Javed</td>\n",
       "      <td>Male</td>\n",
       "      <td>362</td>\n",
       "      <td>413</td>\n",
       "      <td>2.94</td>\n",
       "      <td>Black</td>\n",
       "      <td>September</td>\n",
       "      <td>76</td>\n",
       "    </tr>\n",
       "    <tr>\n",
       "      <th>58</th>\n",
       "      <td>Hafiz Malahim Labib</td>\n",
       "      <td>Male</td>\n",
       "      <td>390</td>\n",
       "      <td>430</td>\n",
       "      <td>3.24</td>\n",
       "      <td>Orange</td>\n",
       "      <td>May</td>\n",
       "      <td>54</td>\n",
       "    </tr>\n",
       "    <tr>\n",
       "      <th>60</th>\n",
       "      <td>Hamna Tariq Saleemi</td>\n",
       "      <td>Female</td>\n",
       "      <td>400</td>\n",
       "      <td>418</td>\n",
       "      <td>2.80</td>\n",
       "      <td>Black</td>\n",
       "      <td>October</td>\n",
       "      <td>62</td>\n",
       "    </tr>\n",
       "    <tr>\n",
       "      <th>77</th>\n",
       "      <td>Hina</td>\n",
       "      <td>Female</td>\n",
       "      <td>410</td>\n",
       "      <td>350</td>\n",
       "      <td>2.90</td>\n",
       "      <td>Blue</td>\n",
       "      <td>August</td>\n",
       "      <td>67</td>\n",
       "    </tr>\n",
       "    <tr>\n",
       "      <th>78</th>\n",
       "      <td>Hamza Javed Khan</td>\n",
       "      <td>Male</td>\n",
       "      <td>400</td>\n",
       "      <td>381</td>\n",
       "      <td>3.39</td>\n",
       "      <td>Blue</td>\n",
       "      <td>January</td>\n",
       "      <td>78</td>\n",
       "    </tr>\n",
       "    <tr>\n",
       "      <th>80</th>\n",
       "      <td>Husnain Ahmed</td>\n",
       "      <td>Male</td>\n",
       "      <td>335</td>\n",
       "      <td>427</td>\n",
       "      <td>2.41</td>\n",
       "      <td>Dark Blue</td>\n",
       "      <td>September</td>\n",
       "      <td>72</td>\n",
       "    </tr>\n",
       "    <tr>\n",
       "      <th>93</th>\n",
       "      <td>Hamayoun Masroor</td>\n",
       "      <td>Male</td>\n",
       "      <td>900</td>\n",
       "      <td>856</td>\n",
       "      <td>3.16</td>\n",
       "      <td>Pink</td>\n",
       "      <td>September</td>\n",
       "      <td>63</td>\n",
       "    </tr>\n",
       "    <tr>\n",
       "      <th>98</th>\n",
       "      <td>Hussain Afzal</td>\n",
       "      <td>Male</td>\n",
       "      <td>415</td>\n",
       "      <td>346</td>\n",
       "      <td>2.87</td>\n",
       "      <td>Blue</td>\n",
       "      <td>March</td>\n",
       "      <td>81</td>\n",
       "    </tr>\n",
       "  </tbody>\n",
       "</table>\n",
       "</div>"
      ],
      "text/plain": [
       "                   Name  Gender  HSSC-1  HSSC-2  CGPA FavoriteColor  \\\n",
       "9          Hamza Naveed    Male     435     459  2.80          Blue   \n",
       "21          Habib Ullah    Male     399     434  3.35       Mustard   \n",
       "22         Hunain Javed    Male     362     413  2.94         Black   \n",
       "58  Hafiz Malahim Labib    Male     390     430  3.24        Orange   \n",
       "60  Hamna Tariq Saleemi  Female     400     418  2.80         Black   \n",
       "77                 Hina  Female     410     350  2.90          Blue   \n",
       "78     Hamza Javed Khan    Male     400     381  3.39          Blue   \n",
       "80       Husnain Ahmed     Male     335     427  2.41     Dark Blue   \n",
       "93     Hamayoun Masroor    Male     900     856  3.16          Pink   \n",
       "98        Hussain Afzal    Male     415     346  2.87          Blue   \n",
       "\n",
       "    BirthMonth  Weight  \n",
       "9          May      58  \n",
       "21       April      60  \n",
       "22  September       76  \n",
       "58         May      54  \n",
       "60     October      62  \n",
       "77      August      67  \n",
       "78    January       78  \n",
       "80   September      72  \n",
       "93  September       63  \n",
       "98       March      81  "
      ]
     },
     "execution_count": 84,
     "metadata": {},
     "output_type": "execute_result"
    }
   ],
   "source": [
    "regex = 'H'\n",
    "df[df.Name.str.startswith(regex)]\n",
    "\n"
   ]
  },
  {
   "cell_type": "code",
   "execution_count": 85,
   "metadata": {},
   "outputs": [
    {
     "name": "stdout",
     "output_type": "stream",
     "text": [
      "['Syeda Maham Gillani']\n",
      "['Shahzada Mujahid Raza']\n",
      "['Muhammad Subhan Khan']\n",
      "['Sarmad Waheed Ahmed']\n",
      "['Ahmed Amjad Dar']\n",
      "['Muhammad Ibrahim Khalil']\n",
      "['Muhammad Saim Jamil']\n",
      "['Ahmar Hafeez Khan']\n",
      "['Muhammad Umar Asghar']\n",
      "['Muhammad Haider Awan']\n",
      "['Abdul Mateen Alam']\n",
      "['Muhammad Ammar Khalid']\n",
      "['Osama Nadeem Khan']\n",
      "['Muhammad Hashir Azeem']\n",
      "['Muhammad Aun Raza']\n",
      "['Syeda Noor Zehra']\n",
      "['Hafiz Malahim Labib']\n",
      "['Hamna Tariq Saleemi']\n",
      "['Bashara Tehseen Liaqat']\n",
      "['Muhammad Zafar Ijaz']\n",
      "['Muhammad Hammad Ejaz']\n",
      "['Muhammad Saif Ullah']\n",
      "['Syed Muhammad Hamza']\n",
      "['Muhammad Al Fahad']\n",
      "['Syed Ali Raza']\n",
      "['Abdul Hadi Khan']\n",
      "['Hamza Javed Khan']\n",
      "['Syed Muhammad Ali']\n",
      "['Salman Wasi Ahmad']\n",
      "['Ghulam Mustafa Shiekh']\n",
      "['Muhammad Azeem Shoukat']\n",
      "['Muhammad Nouman Tahir']\n",
      "['Muhammad Huzaifa Jawad']\n",
      "['Noor Tariq Rana']\n",
      "['Muhammad Asadullah Rind']\n",
      "['Muhammad Talha Saeed']\n",
      "['Muhammad Bilal Aslam']\n",
      "['Syed Ali Mehdi']\n",
      "['Aftab Ahmad Khan']\n",
      "['Syed Zain Raza']\n",
      "['Mutyyab Ul Hassan']\n",
      "['Muhammad Umair Tariq']\n",
      "Total number of students having three words name (first-middle-surname) are  42\n"
     ]
    }
   ],
   "source": [
    "#Print the total number of students who have a three words name (first-middle-surname)\n",
    "\n",
    "import re\n",
    "m=df['Name'].values\n",
    "lists= []\n",
    "regex=r'[A-Z][a-z]+\\s+[A-Z][a-z]+\\s+[A-Z][a-z]+'\n",
    "counter=0\n",
    "for i in m: \n",
    "    lists = (re.findall(regex,str(i)))\n",
    "    if len(lists):\n",
    "        print(lists)\n",
    "        counter=counter+1\n",
    " \n",
    "\n",
    "print(\"Total number of students having three words name (first-middle-surname) are \",counter)\n"
   ]
  },
  {
   "cell_type": "markdown",
   "metadata": {
    "id": "94dEi4-BZYSa"
   },
   "source": [
    "**Print the percentage of students who have a CGPA of 3.0 or above**"
   ]
  },
  {
   "cell_type": "code",
   "execution_count": 86,
   "metadata": {
    "colab": {
     "base_uri": "https://localhost:8080/"
    },
    "executionInfo": {
     "elapsed": 422,
     "status": "ok",
     "timestamp": 1666536211495,
     "user": {
      "displayName": "ALEENA KHAN",
      "userId": "07483555042704685188"
     },
     "user_tz": -300
    },
    "id": "rhXoQRXv5heB",
    "outputId": "da26f3ba-5a54-474d-fd85-074942496da2"
   },
   "outputs": [
    {
     "data": {
      "text/plain": [
       "134"
      ]
     },
     "execution_count": 86,
     "metadata": {},
     "output_type": "execute_result"
    }
   ],
   "source": [
    "rows=len(df)\n",
    "rows"
   ]
  },
  {
   "cell_type": "code",
   "execution_count": 87,
   "metadata": {
    "colab": {
     "base_uri": "https://localhost:8080/",
     "height": 1000
    },
    "executionInfo": {
     "elapsed": 12,
     "status": "ok",
     "timestamp": 1666536212309,
     "user": {
      "displayName": "ALEENA KHAN",
      "userId": "07483555042704685188"
     },
     "user_tz": -300
    },
    "id": "aN1FXLC86Ehf",
    "outputId": "45ecf31b-d0bb-44a2-8976-8985716757ed"
   },
   "outputs": [
    {
     "data": {
      "text/html": [
       "<div>\n",
       "<style scoped>\n",
       "    .dataframe tbody tr th:only-of-type {\n",
       "        vertical-align: middle;\n",
       "    }\n",
       "\n",
       "    .dataframe tbody tr th {\n",
       "        vertical-align: top;\n",
       "    }\n",
       "\n",
       "    .dataframe thead th {\n",
       "        text-align: right;\n",
       "    }\n",
       "</style>\n",
       "<table border=\"1\" class=\"dataframe\">\n",
       "  <thead>\n",
       "    <tr style=\"text-align: right;\">\n",
       "      <th></th>\n",
       "      <th>Name</th>\n",
       "      <th>Gender</th>\n",
       "      <th>HSSC-1</th>\n",
       "      <th>HSSC-2</th>\n",
       "      <th>CGPA</th>\n",
       "      <th>FavoriteColor</th>\n",
       "      <th>BirthMonth</th>\n",
       "      <th>Weight</th>\n",
       "    </tr>\n",
       "  </thead>\n",
       "  <tbody>\n",
       "    <tr>\n",
       "      <th>3</th>\n",
       "      <td>Syeda Maham Gillani</td>\n",
       "      <td>Female</td>\n",
       "      <td>412</td>\n",
       "      <td>440</td>\n",
       "      <td>3.11</td>\n",
       "      <td>Blue</td>\n",
       "      <td>February</td>\n",
       "      <td>63</td>\n",
       "    </tr>\n",
       "    <tr>\n",
       "      <th>6</th>\n",
       "      <td>Shahzada Mujahid Raza</td>\n",
       "      <td>Male</td>\n",
       "      <td>814</td>\n",
       "      <td>466</td>\n",
       "      <td>3.20</td>\n",
       "      <td>Orange</td>\n",
       "      <td>August</td>\n",
       "      <td>60</td>\n",
       "    </tr>\n",
       "    <tr>\n",
       "      <th>10</th>\n",
       "      <td>Fatima Naqvi</td>\n",
       "      <td>Female</td>\n",
       "      <td>398</td>\n",
       "      <td>355</td>\n",
       "      <td>3.06</td>\n",
       "      <td>Red</td>\n",
       "      <td>October</td>\n",
       "      <td>60</td>\n",
       "    </tr>\n",
       "    <tr>\n",
       "      <th>11</th>\n",
       "      <td>Seerat Salman</td>\n",
       "      <td>Male</td>\n",
       "      <td>397</td>\n",
       "      <td>415</td>\n",
       "      <td>3.10</td>\n",
       "      <td>Black</td>\n",
       "      <td>September</td>\n",
       "      <td>65</td>\n",
       "    </tr>\n",
       "    <tr>\n",
       "      <th>12</th>\n",
       "      <td>Tayyab Ahmad</td>\n",
       "      <td>Male</td>\n",
       "      <td>336</td>\n",
       "      <td>422</td>\n",
       "      <td>3.05</td>\n",
       "      <td>Green</td>\n",
       "      <td>December</td>\n",
       "      <td>85</td>\n",
       "    </tr>\n",
       "    <tr>\n",
       "      <th>14</th>\n",
       "      <td>Muhammad Subhan Khan</td>\n",
       "      <td>Male</td>\n",
       "      <td>412</td>\n",
       "      <td>419</td>\n",
       "      <td>3.53</td>\n",
       "      <td>Yellow</td>\n",
       "      <td>January</td>\n",
       "      <td>90</td>\n",
       "    </tr>\n",
       "    <tr>\n",
       "      <th>15</th>\n",
       "      <td>Muhammad Adeel</td>\n",
       "      <td>Male</td>\n",
       "      <td>410</td>\n",
       "      <td>365</td>\n",
       "      <td>3.30</td>\n",
       "      <td>Green</td>\n",
       "      <td>November</td>\n",
       "      <td>90</td>\n",
       "    </tr>\n",
       "    <tr>\n",
       "      <th>16</th>\n",
       "      <td>Ali Mohsin</td>\n",
       "      <td>Male</td>\n",
       "      <td>452</td>\n",
       "      <td>832</td>\n",
       "      <td>3.26</td>\n",
       "      <td>Black</td>\n",
       "      <td>August</td>\n",
       "      <td>54</td>\n",
       "    </tr>\n",
       "    <tr>\n",
       "      <th>17</th>\n",
       "      <td>Sarmad Waheed Ahmed</td>\n",
       "      <td>Male</td>\n",
       "      <td>436</td>\n",
       "      <td>427</td>\n",
       "      <td>3.47</td>\n",
       "      <td>Green</td>\n",
       "      <td>January</td>\n",
       "      <td>50</td>\n",
       "    </tr>\n",
       "    <tr>\n",
       "      <th>21</th>\n",
       "      <td>Habib Ullah</td>\n",
       "      <td>Male</td>\n",
       "      <td>399</td>\n",
       "      <td>434</td>\n",
       "      <td>3.35</td>\n",
       "      <td>Mustard</td>\n",
       "      <td>April</td>\n",
       "      <td>60</td>\n",
       "    </tr>\n",
       "    <tr>\n",
       "      <th>25</th>\n",
       "      <td>Azeem Manzoor</td>\n",
       "      <td>Male</td>\n",
       "      <td>410</td>\n",
       "      <td>403</td>\n",
       "      <td>3.22</td>\n",
       "      <td>Light Green</td>\n",
       "      <td>June</td>\n",
       "      <td>66</td>\n",
       "    </tr>\n",
       "    <tr>\n",
       "      <th>35</th>\n",
       "      <td>Sana Imran</td>\n",
       "      <td>Female</td>\n",
       "      <td>398</td>\n",
       "      <td>414</td>\n",
       "      <td>3.20</td>\n",
       "      <td>Navy Blue</td>\n",
       "      <td>March</td>\n",
       "      <td>60</td>\n",
       "    </tr>\n",
       "    <tr>\n",
       "      <th>44</th>\n",
       "      <td>Aleena Khan</td>\n",
       "      <td>Female</td>\n",
       "      <td>424</td>\n",
       "      <td>277</td>\n",
       "      <td>3.12</td>\n",
       "      <td>Peach</td>\n",
       "      <td>February</td>\n",
       "      <td>54</td>\n",
       "    </tr>\n",
       "    <tr>\n",
       "      <th>52</th>\n",
       "      <td>Ali Hassan</td>\n",
       "      <td>Male</td>\n",
       "      <td>419</td>\n",
       "      <td>330</td>\n",
       "      <td>3.15</td>\n",
       "      <td>Black</td>\n",
       "      <td>March</td>\n",
       "      <td>52</td>\n",
       "    </tr>\n",
       "    <tr>\n",
       "      <th>53</th>\n",
       "      <td>Shibbal Farooq</td>\n",
       "      <td>Male</td>\n",
       "      <td>386</td>\n",
       "      <td>420</td>\n",
       "      <td>3.01</td>\n",
       "      <td>Yellow</td>\n",
       "      <td>December</td>\n",
       "      <td>50</td>\n",
       "    </tr>\n",
       "    <tr>\n",
       "      <th>55</th>\n",
       "      <td>Syeda Noor Zehra Naqvi</td>\n",
       "      <td>Female</td>\n",
       "      <td>428</td>\n",
       "      <td>420</td>\n",
       "      <td>3.05</td>\n",
       "      <td>Yellow</td>\n",
       "      <td>October</td>\n",
       "      <td>67</td>\n",
       "    </tr>\n",
       "    <tr>\n",
       "      <th>56</th>\n",
       "      <td>Muhammad Shahmeer</td>\n",
       "      <td>Male</td>\n",
       "      <td>365</td>\n",
       "      <td>464</td>\n",
       "      <td>3.25</td>\n",
       "      <td>Navy Blue</td>\n",
       "      <td>March</td>\n",
       "      <td>64</td>\n",
       "    </tr>\n",
       "    <tr>\n",
       "      <th>58</th>\n",
       "      <td>Hafiz Malahim Labib</td>\n",
       "      <td>Male</td>\n",
       "      <td>390</td>\n",
       "      <td>430</td>\n",
       "      <td>3.24</td>\n",
       "      <td>Orange</td>\n",
       "      <td>May</td>\n",
       "      <td>54</td>\n",
       "    </tr>\n",
       "    <tr>\n",
       "      <th>59</th>\n",
       "      <td>Umer Nadeem</td>\n",
       "      <td>Male</td>\n",
       "      <td>368</td>\n",
       "      <td>387</td>\n",
       "      <td>3.12</td>\n",
       "      <td>Navy Blue</td>\n",
       "      <td>May</td>\n",
       "      <td>65</td>\n",
       "    </tr>\n",
       "    <tr>\n",
       "      <th>66</th>\n",
       "      <td>Yalmaz Ali</td>\n",
       "      <td>Male</td>\n",
       "      <td>395</td>\n",
       "      <td>473</td>\n",
       "      <td>3.44</td>\n",
       "      <td>Blue</td>\n",
       "      <td>March</td>\n",
       "      <td>85</td>\n",
       "    </tr>\n",
       "    <tr>\n",
       "      <th>67</th>\n",
       "      <td>Sobel Bhatti</td>\n",
       "      <td>Male</td>\n",
       "      <td>369</td>\n",
       "      <td>791</td>\n",
       "      <td>3.19</td>\n",
       "      <td>Black</td>\n",
       "      <td>November</td>\n",
       "      <td>45</td>\n",
       "    </tr>\n",
       "    <tr>\n",
       "      <th>68</th>\n",
       "      <td>Muhammad Saif Ullah</td>\n",
       "      <td>Male</td>\n",
       "      <td>293</td>\n",
       "      <td>799</td>\n",
       "      <td>3.11</td>\n",
       "      <td>Black</td>\n",
       "      <td>June</td>\n",
       "      <td>66</td>\n",
       "    </tr>\n",
       "    <tr>\n",
       "      <th>71</th>\n",
       "      <td>Namatulla</td>\n",
       "      <td>Male</td>\n",
       "      <td>448</td>\n",
       "      <td>440</td>\n",
       "      <td>3.40</td>\n",
       "      <td>Green</td>\n",
       "      <td>October</td>\n",
       "      <td>88</td>\n",
       "    </tr>\n",
       "    <tr>\n",
       "      <th>73</th>\n",
       "      <td>Ahsan Aijaz</td>\n",
       "      <td>Male</td>\n",
       "      <td>351</td>\n",
       "      <td>327</td>\n",
       "      <td>3.00</td>\n",
       "      <td>Navy Blue</td>\n",
       "      <td>July</td>\n",
       "      <td>65</td>\n",
       "    </tr>\n",
       "    <tr>\n",
       "      <th>76</th>\n",
       "      <td>Abdul Hadi Khan</td>\n",
       "      <td>Male</td>\n",
       "      <td>315</td>\n",
       "      <td>368</td>\n",
       "      <td>3.23</td>\n",
       "      <td>White</td>\n",
       "      <td>July</td>\n",
       "      <td>98</td>\n",
       "    </tr>\n",
       "    <tr>\n",
       "      <th>78</th>\n",
       "      <td>Hamza Javed Khan</td>\n",
       "      <td>Male</td>\n",
       "      <td>400</td>\n",
       "      <td>381</td>\n",
       "      <td>3.39</td>\n",
       "      <td>Blue</td>\n",
       "      <td>January</td>\n",
       "      <td>78</td>\n",
       "    </tr>\n",
       "    <tr>\n",
       "      <th>79</th>\n",
       "      <td>Maheen Iftikhar</td>\n",
       "      <td>Female</td>\n",
       "      <td>358</td>\n",
       "      <td>424</td>\n",
       "      <td>3.27</td>\n",
       "      <td>Green</td>\n",
       "      <td>September</td>\n",
       "      <td>80</td>\n",
       "    </tr>\n",
       "    <tr>\n",
       "      <th>81</th>\n",
       "      <td>Ifrah Ayaz</td>\n",
       "      <td>Female</td>\n",
       "      <td>361</td>\n",
       "      <td>409</td>\n",
       "      <td>3.52</td>\n",
       "      <td>Black</td>\n",
       "      <td>June</td>\n",
       "      <td>46</td>\n",
       "    </tr>\n",
       "    <tr>\n",
       "      <th>82</th>\n",
       "      <td>Muhammad Afzal</td>\n",
       "      <td>Male</td>\n",
       "      <td>398</td>\n",
       "      <td>402</td>\n",
       "      <td>3.23</td>\n",
       "      <td>Pink</td>\n",
       "      <td>March</td>\n",
       "      <td>52</td>\n",
       "    </tr>\n",
       "    <tr>\n",
       "      <th>89</th>\n",
       "      <td>Mahmood Ahmad</td>\n",
       "      <td>Male</td>\n",
       "      <td>410</td>\n",
       "      <td>434</td>\n",
       "      <td>3.20</td>\n",
       "      <td>Green</td>\n",
       "      <td>February</td>\n",
       "      <td>52</td>\n",
       "    </tr>\n",
       "    <tr>\n",
       "      <th>93</th>\n",
       "      <td>Hamayoun Masroor</td>\n",
       "      <td>Male</td>\n",
       "      <td>900</td>\n",
       "      <td>856</td>\n",
       "      <td>3.16</td>\n",
       "      <td>Pink</td>\n",
       "      <td>September</td>\n",
       "      <td>63</td>\n",
       "    </tr>\n",
       "    <tr>\n",
       "      <th>95</th>\n",
       "      <td>Muhammad Hashim</td>\n",
       "      <td>Male</td>\n",
       "      <td>392</td>\n",
       "      <td>919</td>\n",
       "      <td>3.00</td>\n",
       "      <td>Black</td>\n",
       "      <td>February</td>\n",
       "      <td>97</td>\n",
       "    </tr>\n",
       "    <tr>\n",
       "      <th>104</th>\n",
       "      <td>Muhammad Nouman Tahir</td>\n",
       "      <td>Male</td>\n",
       "      <td>412</td>\n",
       "      <td>442</td>\n",
       "      <td>3.00</td>\n",
       "      <td>Blue</td>\n",
       "      <td>February</td>\n",
       "      <td>59</td>\n",
       "    </tr>\n",
       "    <tr>\n",
       "      <th>108</th>\n",
       "      <td>Noor Tariq Rana</td>\n",
       "      <td>Female</td>\n",
       "      <td>863</td>\n",
       "      <td>490</td>\n",
       "      <td>3.16</td>\n",
       "      <td>Yellow</td>\n",
       "      <td>October</td>\n",
       "      <td>60</td>\n",
       "    </tr>\n",
       "    <tr>\n",
       "      <th>119</th>\n",
       "      <td>Aqsa Rafiq</td>\n",
       "      <td>Female</td>\n",
       "      <td>423</td>\n",
       "      <td>394</td>\n",
       "      <td>3.12</td>\n",
       "      <td>Black</td>\n",
       "      <td>September</td>\n",
       "      <td>65</td>\n",
       "    </tr>\n",
       "    <tr>\n",
       "      <th>124</th>\n",
       "      <td>Muhammad Umair Tariq</td>\n",
       "      <td>Male</td>\n",
       "      <td>402</td>\n",
       "      <td>407</td>\n",
       "      <td>3.45</td>\n",
       "      <td>Purple</td>\n",
       "      <td>May</td>\n",
       "      <td>65</td>\n",
       "    </tr>\n",
       "    <tr>\n",
       "      <th>125</th>\n",
       "      <td>Shakira Hafeez</td>\n",
       "      <td>Female</td>\n",
       "      <td>402</td>\n",
       "      <td>345</td>\n",
       "      <td>3.06</td>\n",
       "      <td>Blue</td>\n",
       "      <td>October</td>\n",
       "      <td>60</td>\n",
       "    </tr>\n",
       "    <tr>\n",
       "      <th>131</th>\n",
       "      <td>Shafaqat Ali</td>\n",
       "      <td>Male</td>\n",
       "      <td>424</td>\n",
       "      <td>824</td>\n",
       "      <td>3.07</td>\n",
       "      <td>Black</td>\n",
       "      <td>May</td>\n",
       "      <td>58</td>\n",
       "    </tr>\n",
       "  </tbody>\n",
       "</table>\n",
       "</div>"
      ],
      "text/plain": [
       "                       Name  Gender  HSSC-1  HSSC-2  CGPA FavoriteColor  \\\n",
       "3       Syeda Maham Gillani  Female     412     440  3.11          Blue   \n",
       "6     Shahzada Mujahid Raza    Male     814     466  3.20        Orange   \n",
       "10            Fatima Naqvi   Female     398     355  3.06           Red   \n",
       "11            Seerat Salman    Male     397     415  3.10         Black   \n",
       "12             Tayyab Ahmad    Male     336     422  3.05         Green   \n",
       "14    Muhammad Subhan Khan     Male     412     419  3.53        Yellow   \n",
       "15           Muhammad Adeel    Male     410     365  3.30         Green   \n",
       "16               Ali Mohsin    Male     452     832  3.26         Black   \n",
       "17     Sarmad Waheed Ahmed     Male     436     427  3.47         Green   \n",
       "21              Habib Ullah    Male     399     434  3.35       Mustard   \n",
       "25            Azeem Manzoor    Male     410     403  3.22   Light Green   \n",
       "35               Sana Imran  Female     398     414  3.20     Navy Blue   \n",
       "44             Aleena Khan   Female     424     277  3.12        Peach    \n",
       "52               Ali Hassan    Male     419     330  3.15         Black   \n",
       "53          Shibbal Farooq     Male     386     420  3.01       Yellow    \n",
       "55   Syeda Noor Zehra Naqvi  Female     428     420  3.05        Yellow   \n",
       "56        Muhammad Shahmeer    Male     365     464  3.25     Navy Blue   \n",
       "58      Hafiz Malahim Labib    Male     390     430  3.24        Orange   \n",
       "59              Umer Nadeem    Male     368     387  3.12     Navy Blue   \n",
       "66               Yalmaz Ali    Male     395     473  3.44          Blue   \n",
       "67             Sobel Bhatti    Male     369     791  3.19         Black   \n",
       "68      Muhammad Saif Ullah    Male     293     799  3.11        Black    \n",
       "71               Namatulla     Male     448     440  3.40         Green   \n",
       "73              Ahsan Aijaz    Male     351     327  3.00     Navy Blue   \n",
       "76          Abdul Hadi Khan    Male     315     368  3.23         White   \n",
       "78         Hamza Javed Khan    Male     400     381  3.39          Blue   \n",
       "79          Maheen Iftikhar  Female     358     424  3.27         Green   \n",
       "81               Ifrah Ayaz  Female     361     409  3.52         Black   \n",
       "82           Muhammad Afzal    Male     398     402  3.23          Pink   \n",
       "89            Mahmood Ahmad    Male     410     434  3.20         Green   \n",
       "93         Hamayoun Masroor    Male     900     856  3.16          Pink   \n",
       "95          Muhammad Hashim    Male     392     919  3.00         Black   \n",
       "104   Muhammad Nouman Tahir    Male     412     442  3.00          Blue   \n",
       "108         Noor Tariq Rana  Female     863     490  3.16        Yellow   \n",
       "119             Aqsa Rafiq   Female     423     394  3.12         Black   \n",
       "124   Muhammad Umair Tariq     Male     402     407  3.45       Purple    \n",
       "125          Shakira Hafeez  Female     402     345  3.06          Blue   \n",
       "131            Shafaqat Ali    Male     424     824  3.07         Black   \n",
       "\n",
       "     BirthMonth  Weight  \n",
       "3      February      63  \n",
       "6        August      60  \n",
       "10     October       60  \n",
       "11    September      65  \n",
       "12     December      85  \n",
       "14     January       90  \n",
       "15    November       90  \n",
       "16       August      54  \n",
       "17      January      50  \n",
       "21        April      60  \n",
       "25         June      66  \n",
       "35        March      60  \n",
       "44     February      54  \n",
       "52        March      52  \n",
       "53    December       50  \n",
       "55      October      67  \n",
       "56        March      64  \n",
       "58          May      54  \n",
       "59          May      65  \n",
       "66        March      85  \n",
       "67     November      45  \n",
       "68         June      66  \n",
       "71     October       88  \n",
       "73         July      65  \n",
       "76         July      98  \n",
       "78     January       78  \n",
       "79   September       80  \n",
       "81         June      46  \n",
       "82        March      52  \n",
       "89     February      52  \n",
       "93   September       63  \n",
       "95     February      97  \n",
       "104    February      59  \n",
       "108     October      60  \n",
       "119   September      65  \n",
       "124         May      65  \n",
       "125     October      60  \n",
       "131         May      58  "
      ]
     },
     "execution_count": 87,
     "metadata": {},
     "output_type": "execute_result"
    }
   ],
   "source": [
    "CGPA = df[df['CGPA'] >= 3] \n",
    "CGPA"
   ]
  },
  {
   "cell_type": "code",
   "execution_count": 88,
   "metadata": {
    "colab": {
     "base_uri": "https://localhost:8080/"
    },
    "executionInfo": {
     "elapsed": 575,
     "status": "ok",
     "timestamp": 1666535172919,
     "user": {
      "displayName": "ALEENA KHAN",
      "userId": "07483555042704685188"
     },
     "user_tz": -300
    },
    "id": "fKAHbXsu7Cu8",
    "outputId": "32d1ff7b-66d6-45aa-d671-d2c08eb7bcda"
   },
   "outputs": [
    {
     "data": {
      "text/plain": [
       "38"
      ]
     },
     "execution_count": 88,
     "metadata": {},
     "output_type": "execute_result"
    }
   ],
   "source": [
    "selected_rows=len(df[df['CGPA'] >= 3])\n",
    "selected_rows"
   ]
  },
  {
   "cell_type": "code",
   "execution_count": 89,
   "metadata": {
    "colab": {
     "base_uri": "https://localhost:8080/"
    },
    "executionInfo": {
     "elapsed": 2,
     "status": "ok",
     "timestamp": 1666535174245,
     "user": {
      "displayName": "ALEENA KHAN",
      "userId": "07483555042704685188"
     },
     "user_tz": -300
    },
    "id": "Hnfw_Kp48Yfb",
    "outputId": "f13afcdb-8b4c-484e-bb0d-714de285df37"
   },
   "outputs": [
    {
     "name": "stdout",
     "output_type": "stream",
     "text": [
      "The percentage of students 3.0 or above is  28.358 %\n"
     ]
    }
   ],
   "source": [
    "percentage=(selected_rows/rows)*100\n",
    "print(\"The percentage of students 3.0 or above is \", round(percentage,3),\"%\")"
   ]
  },
  {
   "cell_type": "markdown",
   "metadata": {
    "id": "YHU0MOQfPL8U"
   },
   "source": [
    "**Plot a pie chart to show the ratio of male and female students**"
   ]
  },
  {
   "cell_type": "code",
   "execution_count": 92,
   "metadata": {
    "colab": {
     "base_uri": "https://localhost:8080/"
    },
    "executionInfo": {
     "elapsed": 3,
     "status": "ok",
     "timestamp": 1666585173712,
     "user": {
      "displayName": "ALEENA KHAN",
      "userId": "07483555042704685188"
     },
     "user_tz": -300
    },
    "id": "Tz8-r0jMGjnN",
    "outputId": "675825cb-e7b8-4b6a-a2bc-cbe61cfa23a7"
   },
   "outputs": [
    {
     "data": {
      "text/plain": [
       "21"
      ]
     },
     "execution_count": 92,
     "metadata": {},
     "output_type": "execute_result"
    }
   ],
   "source": [
    "female =len(df[df['Gender']=='Female'])\n",
    "\n",
    "female"
   ]
  },
  {
   "cell_type": "code",
   "execution_count": 93,
   "metadata": {
    "colab": {
     "base_uri": "https://localhost:8080/"
    },
    "executionInfo": {
     "elapsed": 4,
     "status": "ok",
     "timestamp": 1666535181495,
     "user": {
      "displayName": "ALEENA KHAN",
      "userId": "07483555042704685188"
     },
     "user_tz": -300
    },
    "id": "xT2fXvPZHLcM",
    "outputId": "9f8d6691-272e-4e9d-ec0a-99ac1f724930"
   },
   "outputs": [
    {
     "data": {
      "text/plain": [
       "113"
      ]
     },
     "execution_count": 93,
     "metadata": {},
     "output_type": "execute_result"
    }
   ],
   "source": [
    "male =len(df[df['Gender']=='Male'])\n",
    "male"
   ]
  },
  {
   "cell_type": "code",
   "execution_count": 94,
   "metadata": {
    "colab": {
     "base_uri": "https://localhost:8080/",
     "height": 248
    },
    "executionInfo": {
     "elapsed": 8,
     "status": "ok",
     "timestamp": 1666535187402,
     "user": {
      "displayName": "ALEENA KHAN",
      "userId": "07483555042704685188"
     },
     "user_tz": -300
    },
    "id": "c3PDJK5-HiQA",
    "outputId": "a7079bf4-3e5f-40f0-bd3d-27c4e2854e4f"
   },
   "outputs": [
    {
     "data": {
      "image/png": "[encoded data removed]",
      "text/plain": [
       "<Figure size 432x288 with 1 Axes>"
      ]
     },
     "metadata": {},
     "output_type": "display_data"
    }
   ],
   "source": [
    "gender=['Male','Female']\n",
    "data=[male,female]\n",
    "plt.pie(data, labels = gender, autopct='%1.1f%%')\n",
    "plt.show()\n"
   ]
  },
  {
   "cell_type": "markdown",
   "metadata": {
    "id": "QHKcOpvVYaG3"
   },
   "source": [
    " **Plot the HSSC-1 marks of all male vs female students on a scatter plot**"
   ]
  },
  {
   "cell_type": "code",
   "execution_count": 95,
   "metadata": {
    "colab": {
     "base_uri": "https://localhost:8080/"
    },
    "executionInfo": {
     "elapsed": 359,
     "status": "ok",
     "timestamp": 1666536809064,
     "user": {
      "displayName": "ALEENA KHAN",
      "userId": "07483555042704685188"
     },
     "user_tz": -300
    },
    "id": "UFvjUJnsiKoj",
    "outputId": "ef562398-fbe1-462f-826d-3b0e1bd15d4d"
   },
   "outputs": [
    {
     "data": {
      "text/plain": [
       "0     440\n",
       "1     415\n",
       "2     388\n",
       "4     364\n",
       "6     814\n",
       "8     410\n",
       "9     435\n",
       "11    397\n",
       "12    336\n",
       "13    372\n",
       "14    412\n",
       "Name: HSSC-1, dtype: int64"
      ]
     },
     "execution_count": 95,
     "metadata": {},
     "output_type": "execute_result"
    }
   ],
   "source": [
    "boyss=df[df['Gender']=='Male']\n",
    "boys=boyss.head(11)\n",
    "boys_grade=boys['HSSC-1']\n",
    "boys_grade\n",
    "\n"
   ]
  },
  {
   "cell_type": "code",
   "execution_count": 96,
   "metadata": {
    "colab": {
     "base_uri": "https://localhost:8080/"
    },
    "executionInfo": {
     "elapsed": 442,
     "status": "ok",
     "timestamp": 1666536814495,
     "user": {
      "displayName": "ALEENA KHAN",
      "userId": "07483555042704685188"
     },
     "user_tz": -300
    },
    "id": "IGvsBrMTmbYu",
    "outputId": "ba0fd132-5eff-446a-a555-b63ed2718a20"
   },
   "outputs": [
    {
     "data": {
      "text/plain": [
       "3     412\n",
       "5     431\n",
       "7     421\n",
       "10    398\n",
       "19    437\n",
       "35    398\n",
       "37    394\n",
       "43    415\n",
       "44    424\n",
       "55    428\n",
       "60    400\n",
       "Name: HSSC-1, dtype: int64"
      ]
     },
     "execution_count": 96,
     "metadata": {},
     "output_type": "execute_result"
    }
   ],
   "source": [
    "girls=(df[df['Gender']=='Female']).head(11)\n",
    "girls_grade=girls['HSSC-1']\n",
    "girls_grade\n"
   ]
  },
  {
   "cell_type": "code",
   "execution_count": 97,
   "metadata": {
    "colab": {
     "base_uri": "https://localhost:8080/",
     "height": 391
    },
    "executionInfo": {
     "elapsed": 1298,
     "status": "ok",
     "timestamp": 1666536819471,
     "user": {
      "displayName": "ALEENA KHAN",
      "userId": "07483555042704685188"
     },
     "user_tz": -300
    },
    "id": "VX8oLjJgifbB",
    "outputId": "42f7285f-b08f-4b48-f114-c1ff59d36ed4"
   },
   "outputs": [
    {
     "data": {
      "image/png": "[encoded data removed]",
      "text/plain": [
       "<Figure size 720x432 with 1 Axes>"
      ]
     },
     "metadata": {
      "needs_background": "light"
     },
     "output_type": "display_data"
    }
   ],
   "source": [
    "#grades_range = [300,310,320, 330,340, 350,360,370,380, 390,400, 410,420,430,440,450,460,470,480,490,500]\n",
    "from matplotlib import rcParams\n",
    "rcParams['figure.figsize']=10,6\n",
    "grades_range = [300,320,340,360,380,400,420,440,460,480,500]\n",
    "plt.scatter(boys_grade, grades_range, marker='o')\n",
    "plt.scatter(girls_grade, grades_range, marker='x')\n",
    "plt.xlabel('Marks Scored', fontsize=12)\n",
    "plt.ylabel('Marks Range', fontsize=12)\n",
    "plt.show()"
   ]
  },
  {
   "cell_type": "markdown",
   "metadata": {
    "id": "O70jm3raSVt0"
   },
   "source": [
    "**Plot line chart of students and their birth months.**"
   ]
  },
  {
   "cell_type": "code",
   "execution_count": 98,
   "metadata": {
    "colab": {
     "base_uri": "https://localhost:8080/",
     "height": 404
    },
    "executionInfo": {
     "elapsed": 3167,
     "status": "ok",
     "timestamp": 1666586304343,
     "user": {
      "displayName": "ALEENA KHAN",
      "userId": "07483555042704685188"
     },
     "user_tz": -300
    },
    "id": "GMpfET25-cDz",
    "outputId": "7e6539d2-26df-4e0f-8a13-ff133395afdc"
   },
   "outputs": [
    {
     "data": {
      "image/png": "[encoded data removed]",
      "text/plain": [
       "<Figure size 720x432 with 1 Axes>"
      ]
     },
     "metadata": {
      "needs_background": "light"
     },
     "output_type": "display_data"
    }
   ],
   "source": [
    "plt.figure(figsize=(10,6))\n",
    "linechart = df['BirthMonth']\n",
    "plt.plot(linechart)\n",
    "plt.xlabel('Students')\n",
    "plt.title('Line chart')\n",
    "plt.ylabel('Birth Month')\n",
    "plt.show()"
   ]
  },
  {
   "cell_type": "markdown",
   "metadata": {
    "id": "KtLYo3TcSYdO"
   },
   "source": [
    "**Create a correlation matrix between HSSC-1 and HSSC-2 marks and then plot on a heatmap**"
   ]
  },
  {
   "cell_type": "code",
   "execution_count": 99,
   "metadata": {
    "colab": {
     "base_uri": "https://localhost:8080/",
     "height": 167
    },
    "executionInfo": {
     "elapsed": 483,
     "status": "ok",
     "timestamp": 1666522453302,
     "user": {
      "displayName": "ALEENA KHAN",
      "userId": "07483555042704685188"
     },
     "user_tz": -300
    },
    "id": "BwCXyFVlEwzw",
    "outputId": "dd491d53-cf0e-4b39-c273-31c8c778d770"
   },
   "outputs": [
    {
     "name": "stderr",
     "output_type": "stream",
     "text": [
      "C:\\Users\\HP\\AppData\\Local\\Temp\\ipykernel_3472\\301452734.py:2: FutureWarning: In a future version of pandas all arguments of DataFrame.drop except for the argument 'labels' will be keyword-only.\n",
      "  X=correlation_matrix.drop('Weight', 1).drop('Weight').drop('CGPA',1).drop('CGPA')\n",
      "C:\\Users\\HP\\AppData\\Local\\Temp\\ipykernel_3472\\301452734.py:2: FutureWarning: In a future version of pandas all arguments of DataFrame.drop except for the argument 'labels' will be keyword-only.\n",
      "  X=correlation_matrix.drop('Weight', 1).drop('Weight').drop('CGPA',1).drop('CGPA')\n"
     ]
    },
    {
     "data": {
      "text/html": [
       "<div>\n",
       "<style scoped>\n",
       "    .dataframe tbody tr th:only-of-type {\n",
       "        vertical-align: middle;\n",
       "    }\n",
       "\n",
       "    .dataframe tbody tr th {\n",
       "        vertical-align: top;\n",
       "    }\n",
       "\n",
       "    .dataframe thead th {\n",
       "        text-align: right;\n",
       "    }\n",
       "</style>\n",
       "<table border=\"1\" class=\"dataframe\">\n",
       "  <thead>\n",
       "    <tr style=\"text-align: right;\">\n",
       "      <th></th>\n",
       "      <th>HSSC-1</th>\n",
       "      <th>HSSC-2</th>\n",
       "    </tr>\n",
       "  </thead>\n",
       "  <tbody>\n",
       "    <tr>\n",
       "      <th>HSSC-1</th>\n",
       "      <td>1.000000</td>\n",
       "      <td>0.076723</td>\n",
       "    </tr>\n",
       "    <tr>\n",
       "      <th>HSSC-2</th>\n",
       "      <td>0.076723</td>\n",
       "      <td>1.000000</td>\n",
       "    </tr>\n",
       "  </tbody>\n",
       "</table>\n",
       "</div>"
      ],
      "text/plain": [
       "          HSSC-1    HSSC-2\n",
       "HSSC-1  1.000000  0.076723\n",
       "HSSC-2  0.076723  1.000000"
      ]
     },
     "execution_count": 99,
     "metadata": {},
     "output_type": "execute_result"
    }
   ],
   "source": [
    "correlation_matrix=df.corr()\n",
    "X=correlation_matrix.drop('Weight', 1).drop('Weight').drop('CGPA',1).drop('CGPA')\n",
    "X"
   ]
  },
  {
   "cell_type": "code",
   "execution_count": 100,
   "metadata": {
    "colab": {
     "base_uri": "https://localhost:8080/",
     "height": 269
    },
    "executionInfo": {
     "elapsed": 413,
     "status": "ok",
     "timestamp": 1666522455673,
     "user": {
      "displayName": "ALEENA KHAN",
      "userId": "07483555042704685188"
     },
     "user_tz": -300
    },
    "id": "kklzqoF9HlsG",
    "outputId": "0e126ff9-6823-4cf8-b10a-9260def83694"
   },
   "outputs": [
    {
     "data": {
      "image/png": "[encoded data removed]",
      "text/plain": [
       "<Figure size 360x288 with 2 Axes>"
      ]
     },
     "metadata": {
      "needs_background": "light"
     },
     "output_type": "display_data"
    }
   ],
   "source": [
    "plt.figure(figsize=(5,4))\n",
    "plot=sns.heatmap(X,annot=True)"
   ]
  },
  {
   "cell_type": "markdown",
   "metadata": {
    "id": "cWp3V33BSeEP"
   },
   "source": [
    "**Plot the CGPA of all male students on a histogram with intervals 2.0-2.5, 2.6-3.0, 3.1-3.5, 3.6-4.0.**"
   ]
  },
  {
   "cell_type": "code",
   "execution_count": 101,
   "metadata": {
    "colab": {
     "base_uri": "https://localhost:8080/",
     "height": 497
    },
    "executionInfo": {
     "elapsed": 965,
     "status": "ok",
     "timestamp": 1666536837237,
     "user": {
      "displayName": "ALEENA KHAN",
      "userId": "07483555042704685188"
     },
     "user_tz": -300
    },
    "id": "sH-bKZ4HKHVf",
    "outputId": "26bb0d61-b350-4623-9e22-079010fa30b0"
   },
   "outputs": [
    {
     "data": {
      "image/png": "[encoded data removed]",
      "text/plain": [
       "<Figure size 648x576 with 1 Axes>"
      ]
     },
     "metadata": {
      "needs_background": "light"
     },
     "output_type": "display_data"
    }
   ],
   "source": [
    "#Histogram\n",
    "plt.figure(figsize=(9,8))\n",
    "male_set = df[df['Gender'] == 'Male']\n",
    "male_set\n",
    "sns.set_style('dark')\n",
    "sns.histplot(x='CGPA', data = boyss, bins=[2.0,2.6,3.1,3.6,4.0])\n",
    "plt.show()"
   ]
  },
  {
   "cell_type": "markdown",
   "metadata": {
    "id": "XOMylMiwZDuH"
   },
   "source": [
    "**Plot the favorite colors of male vs female students on a bar chart.**"
   ]
  },
  {
   "cell_type": "code",
   "execution_count": 102,
   "metadata": {
    "id": "YxhSc84gXYK1"
   },
   "outputs": [],
   "source": [
    "Index=df.index\n",
    "color=df['FavoriteColor']\n",
    "male_c=color[df['Gender'] == 'Male']\n",
    "female_c=color[df['Gender'] == 'Female']\n",
    "\n",
    "m=Index[df['Gender'] == 'Male']\n",
    "f=Index[df['Gender'] == 'Female']\n"
   ]
  },
  {
   "cell_type": "code",
   "execution_count": 103,
   "metadata": {
    "colab": {
     "base_uri": "https://localhost:8080/",
     "height": 414
    },
    "executionInfo": {
     "elapsed": 1407,
     "status": "ok",
     "timestamp": 1666551365362,
     "user": {
      "displayName": "ALEENA KHAN",
      "userId": "07483555042704685188"
     },
     "user_tz": -300
    },
    "id": "CjU-O3e2E4It",
    "outputId": "c0261f90-0f1f-4a93-dae0-65d39613fef7"
   },
   "outputs": [
    {
     "data": {
      "image/png": "[encoded data removed]",
      "text/plain": [
       "<Figure size 1872x576 with 1 Axes>"
      ]
     },
     "metadata": {},
     "output_type": "display_data"
    }
   ],
   "source": [
    "plt.figure(figsize=(26,8))\n",
    "plt.bar(male_c,m,label='Favourite Colors of Male')\n",
    "plt.bar(female_c,f,label='Favourite Colors of Female')\n",
    "plt.xlabel('Colors')\n",
    "plt.ylabel('Students')\n",
    "plt.legend()\n",
    "plt.show()"
   ]
  },
  {
   "cell_type": "code",
   "execution_count": null,
   "metadata": {},
   "outputs": [],
   "source": []
  },
  {
   "cell_type": "code",
   "execution_count": null,
   "metadata": {},
   "outputs": [],
   "source": []
  }
 ],
 "metadata": {
  "colab": {
   "authorship_tag": "ABX9TyOlXP9sNObefTrlafQUAulB",
   "collapsed_sections": [],
   "provenance": []
  },
  "kernelspec": {
   "display_name": "Python 3 (ipykernel)",
   "language": "python",
   "name": "python3"
  },
  "language_info": {
   "codemirror_mode": {
    "name": "ipython",
    "version": 3
   },
   "file_extension": ".py",
   "mimetype": "text/x-python",
   "name": "python",
   "nbconvert_exporter": "python",
   "pygments_lexer": "ipython3",
   "version": "3.9.12"
  }
 },
 "nbformat": 4,
 "nbformat_minor": 1
}
