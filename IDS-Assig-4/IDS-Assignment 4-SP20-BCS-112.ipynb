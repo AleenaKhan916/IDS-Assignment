{
 "cells": [
  {
   "cell_type": "markdown",
   "id": "1e6c8b3b",
   "metadata": {},
   "source": [
    "# Reading datset into data Frame"
   ]
  },
  {
   "cell_type": "code",
   "execution_count": null,
   "id": "a0b3bfae",
   "metadata": {},
   "outputs": [],
   "source": [
    "#importing pandas for converting dataset into dataframe\n",
    "import pandas as pd\n",
    "#importing numpy for linear algebra\n",
    "import numpy as np\n",
    "\n",
    "#importing matplot libraries for constructing graphs\n",
    "%matplotlib inline\n",
    "from matplotlib import pyplot as plt\n",
    "from matplotlib import style\n",
    "\n",
    "\n",
    "#importing seaborn for visualization of charts\n",
    "import seaborn as sns \n",
    "\n",
    "#importing preprocessing for vectorization of instances\n",
    "from sklearn import preprocessing\n",
    "\n",
    "#importing different ML Classifiers\n",
    "from sklearn import svm\n",
    "from sklearn.ensemble import RandomForestClassifier\n",
    "from sklearn.tree import DecisionTreeClassifier\n",
    "from sklearn.naive_bayes import GaussianNB\n",
    "from sklearn.svm import SVC, LinearSVC\n",
    "from sklearn.neural_network import MLPClassifier\n",
    "\n",
    "#importing ML evaluation metrics\n",
    "from sklearn.model_selection import ShuffleSplit,cross_val_score\n",
    "from sklearn.metrics import accuracy_score, confusion_matrix, ConfusionMatrixDisplay, f1_score,recall_score,precision_score\n",
    "from sklearn.model_selection import train_test_split\n",
    "from sklearn import metrics, model_selection\n",
    "\n",
    "#importing scikitplot to plot confusion matrix\n",
    "#import scikitplot as skplt"
   ]
  },
  {
   "cell_type": "code",
   "execution_count": 236,
   "id": "44baf174",
   "metadata": {},
   "outputs": [],
   "source": [
    "gender_prediction_df = pd.read_csv(\"gender-prediction.csv\")"
   ]
  },
  {
   "cell_type": "code",
   "execution_count": 237,
   "id": "1605980c",
   "metadata": {},
   "outputs": [
    {
     "data": {
      "text/html": [
       "<div>\n",
       "<style scoped>\n",
       "    .dataframe tbody tr th:only-of-type {\n",
       "        vertical-align: middle;\n",
       "    }\n",
       "\n",
       "    .dataframe tbody tr th {\n",
       "        vertical-align: top;\n",
       "    }\n",
       "\n",
       "    .dataframe thead th {\n",
       "        text-align: right;\n",
       "    }\n",
       "</style>\n",
       "<table border=\"1\" class=\"dataframe\">\n",
       "  <thead>\n",
       "    <tr style=\"text-align: right;\">\n",
       "      <th></th>\n",
       "      <th>height</th>\n",
       "      <th>weight</th>\n",
       "      <th>beard</th>\n",
       "      <th>hair_length</th>\n",
       "      <th>shoe_size</th>\n",
       "      <th>scarf</th>\n",
       "      <th>eye_color</th>\n",
       "      <th>gender</th>\n",
       "    </tr>\n",
       "  </thead>\n",
       "  <tbody>\n",
       "    <tr>\n",
       "      <th>0</th>\n",
       "      <td>71</td>\n",
       "      <td>176</td>\n",
       "      <td>yes</td>\n",
       "      <td>short</td>\n",
       "      <td>44</td>\n",
       "      <td>no</td>\n",
       "      <td>black</td>\n",
       "      <td>male</td>\n",
       "    </tr>\n",
       "    <tr>\n",
       "      <th>1</th>\n",
       "      <td>68</td>\n",
       "      <td>165</td>\n",
       "      <td>no</td>\n",
       "      <td>bald</td>\n",
       "      <td>41</td>\n",
       "      <td>no</td>\n",
       "      <td>black</td>\n",
       "      <td>male</td>\n",
       "    </tr>\n",
       "    <tr>\n",
       "      <th>2</th>\n",
       "      <td>62</td>\n",
       "      <td>132</td>\n",
       "      <td>no</td>\n",
       "      <td>medium</td>\n",
       "      <td>37</td>\n",
       "      <td>yes</td>\n",
       "      <td>blue</td>\n",
       "      <td>female</td>\n",
       "    </tr>\n",
       "    <tr>\n",
       "      <th>3</th>\n",
       "      <td>65</td>\n",
       "      <td>138</td>\n",
       "      <td>no</td>\n",
       "      <td>long</td>\n",
       "      <td>38</td>\n",
       "      <td>no</td>\n",
       "      <td>gray</td>\n",
       "      <td>female</td>\n",
       "    </tr>\n",
       "    <tr>\n",
       "      <th>4</th>\n",
       "      <td>70</td>\n",
       "      <td>197</td>\n",
       "      <td>yes</td>\n",
       "      <td>medium</td>\n",
       "      <td>43</td>\n",
       "      <td>no</td>\n",
       "      <td>gray</td>\n",
       "      <td>male</td>\n",
       "    </tr>\n",
       "    <tr>\n",
       "      <th>5</th>\n",
       "      <td>71</td>\n",
       "      <td>190</td>\n",
       "      <td>yes</td>\n",
       "      <td>short</td>\n",
       "      <td>43</td>\n",
       "      <td>no</td>\n",
       "      <td>black</td>\n",
       "      <td>male</td>\n",
       "    </tr>\n",
       "    <tr>\n",
       "      <th>6</th>\n",
       "      <td>74</td>\n",
       "      <td>201</td>\n",
       "      <td>yes</td>\n",
       "      <td>bald</td>\n",
       "      <td>44</td>\n",
       "      <td>no</td>\n",
       "      <td>brown</td>\n",
       "      <td>male</td>\n",
       "    </tr>\n",
       "    <tr>\n",
       "      <th>7</th>\n",
       "      <td>74</td>\n",
       "      <td>182</td>\n",
       "      <td>no</td>\n",
       "      <td>short</td>\n",
       "      <td>46</td>\n",
       "      <td>no</td>\n",
       "      <td>brown</td>\n",
       "      <td>male</td>\n",
       "    </tr>\n",
       "    <tr>\n",
       "      <th>8</th>\n",
       "      <td>63</td>\n",
       "      <td>127</td>\n",
       "      <td>no</td>\n",
       "      <td>short</td>\n",
       "      <td>35</td>\n",
       "      <td>no</td>\n",
       "      <td>green</td>\n",
       "      <td>female</td>\n",
       "    </tr>\n",
       "    <tr>\n",
       "      <th>9</th>\n",
       "      <td>65</td>\n",
       "      <td>139</td>\n",
       "      <td>no</td>\n",
       "      <td>medium</td>\n",
       "      <td>37</td>\n",
       "      <td>yes</td>\n",
       "      <td>gray</td>\n",
       "      <td>female</td>\n",
       "    </tr>\n",
       "    <tr>\n",
       "      <th>10</th>\n",
       "      <td>66</td>\n",
       "      <td>125</td>\n",
       "      <td>no</td>\n",
       "      <td>long</td>\n",
       "      <td>36</td>\n",
       "      <td>no</td>\n",
       "      <td>gray</td>\n",
       "      <td>female</td>\n",
       "    </tr>\n",
       "    <tr>\n",
       "      <th>11</th>\n",
       "      <td>73</td>\n",
       "      <td>188</td>\n",
       "      <td>yes</td>\n",
       "      <td>short</td>\n",
       "      <td>42</td>\n",
       "      <td>no</td>\n",
       "      <td>gray</td>\n",
       "      <td>male</td>\n",
       "    </tr>\n",
       "    <tr>\n",
       "      <th>12</th>\n",
       "      <td>74</td>\n",
       "      <td>167</td>\n",
       "      <td>no</td>\n",
       "      <td>medium</td>\n",
       "      <td>41</td>\n",
       "      <td>no</td>\n",
       "      <td>black</td>\n",
       "      <td>male</td>\n",
       "    </tr>\n",
       "    <tr>\n",
       "      <th>13</th>\n",
       "      <td>68</td>\n",
       "      <td>141</td>\n",
       "      <td>no</td>\n",
       "      <td>long</td>\n",
       "      <td>38</td>\n",
       "      <td>no</td>\n",
       "      <td>gray</td>\n",
       "      <td>female</td>\n",
       "    </tr>\n",
       "  </tbody>\n",
       "</table>\n",
       "</div>"
      ],
      "text/plain": [
       "    height  weight beard hair_length  shoe_size scarf eye_color  gender\n",
       "0       71     176   yes       short         44    no     black    male\n",
       "1       68     165    no        bald         41    no     black    male\n",
       "2       62     132    no      medium         37   yes      blue  female\n",
       "3       65     138    no        long         38    no      gray  female\n",
       "4       70     197   yes      medium         43    no      gray    male\n",
       "5       71     190   yes       short         43    no     black    male\n",
       "6       74     201   yes        bald         44    no     brown    male\n",
       "7       74     182    no       short         46    no     brown    male\n",
       "8       63     127    no       short         35    no     green  female\n",
       "9       65     139    no      medium         37   yes      gray  female\n",
       "10      66     125    no        long         36    no      gray  female\n",
       "11      73     188   yes       short         42    no      gray    male\n",
       "12      74     167    no      medium         41    no     black    male\n",
       "13      68     141    no        long         38    no      gray  female"
      ]
     },
     "execution_count": 237,
     "metadata": {},
     "output_type": "execute_result"
    }
   ],
   "source": [
    "gender_prediction_df.head(14)"
   ]
  },
  {
   "cell_type": "markdown",
   "id": "9061681b",
   "metadata": {},
   "source": [
    "# Conversion of object Type into numeric"
   ]
  },
  {
   "cell_type": "code",
   "execution_count": 294,
   "id": "057b7b3b",
   "metadata": {},
   "outputs": [],
   "source": [
    "label = preprocessing.LabelEncoder()\n",
    "gender_prediction_df['hair_length'] = label.fit_transform(gender_prediction_df['hair_length'])\n",
    "gender_prediction_df['beard'] = label.fit_transform(gender_prediction_df['beard'])\n",
    "gender_prediction_df['eye_color'] = label.fit_transform(gender_prediction_df['eye_color'])\n",
    "gender_prediction_df['scarf'] = label.fit_transform(gender_prediction_df['scarf'])\n",
    "gender_prediction_df['gender'] = label.fit_transform(gender_prediction_df['gender'])"
   ]
  },
  {
   "cell_type": "code",
   "execution_count": 92,
   "id": "9f22964a",
   "metadata": {},
   "outputs": [
    {
     "data": {
      "text/html": [
       "<div>\n",
       "<style scoped>\n",
       "    .dataframe tbody tr th:only-of-type {\n",
       "        vertical-align: middle;\n",
       "    }\n",
       "\n",
       "    .dataframe tbody tr th {\n",
       "        vertical-align: top;\n",
       "    }\n",
       "\n",
       "    .dataframe thead th {\n",
       "        text-align: right;\n",
       "    }\n",
       "</style>\n",
       "<table border=\"1\" class=\"dataframe\">\n",
       "  <thead>\n",
       "    <tr style=\"text-align: right;\">\n",
       "      <th></th>\n",
       "      <th>height</th>\n",
       "      <th>weight</th>\n",
       "      <th>beard</th>\n",
       "      <th>hair_length</th>\n",
       "      <th>shoe_size</th>\n",
       "      <th>scarf</th>\n",
       "      <th>eye_color</th>\n",
       "      <th>gender</th>\n",
       "    </tr>\n",
       "  </thead>\n",
       "  <tbody>\n",
       "    <tr>\n",
       "      <th>0</th>\n",
       "      <td>71</td>\n",
       "      <td>176</td>\n",
       "      <td>1</td>\n",
       "      <td>3</td>\n",
       "      <td>44</td>\n",
       "      <td>0</td>\n",
       "      <td>0</td>\n",
       "      <td>1</td>\n",
       "    </tr>\n",
       "    <tr>\n",
       "      <th>1</th>\n",
       "      <td>68</td>\n",
       "      <td>165</td>\n",
       "      <td>0</td>\n",
       "      <td>0</td>\n",
       "      <td>41</td>\n",
       "      <td>0</td>\n",
       "      <td>0</td>\n",
       "      <td>1</td>\n",
       "    </tr>\n",
       "    <tr>\n",
       "      <th>2</th>\n",
       "      <td>62</td>\n",
       "      <td>132</td>\n",
       "      <td>0</td>\n",
       "      <td>2</td>\n",
       "      <td>37</td>\n",
       "      <td>1</td>\n",
       "      <td>1</td>\n",
       "      <td>0</td>\n",
       "    </tr>\n",
       "    <tr>\n",
       "      <th>3</th>\n",
       "      <td>65</td>\n",
       "      <td>138</td>\n",
       "      <td>0</td>\n",
       "      <td>1</td>\n",
       "      <td>38</td>\n",
       "      <td>0</td>\n",
       "      <td>3</td>\n",
       "      <td>0</td>\n",
       "    </tr>\n",
       "    <tr>\n",
       "      <th>4</th>\n",
       "      <td>70</td>\n",
       "      <td>197</td>\n",
       "      <td>1</td>\n",
       "      <td>2</td>\n",
       "      <td>43</td>\n",
       "      <td>0</td>\n",
       "      <td>3</td>\n",
       "      <td>1</td>\n",
       "    </tr>\n",
       "    <tr>\n",
       "      <th>5</th>\n",
       "      <td>71</td>\n",
       "      <td>190</td>\n",
       "      <td>1</td>\n",
       "      <td>3</td>\n",
       "      <td>43</td>\n",
       "      <td>0</td>\n",
       "      <td>0</td>\n",
       "      <td>1</td>\n",
       "    </tr>\n",
       "    <tr>\n",
       "      <th>6</th>\n",
       "      <td>74</td>\n",
       "      <td>201</td>\n",
       "      <td>1</td>\n",
       "      <td>0</td>\n",
       "      <td>44</td>\n",
       "      <td>0</td>\n",
       "      <td>2</td>\n",
       "      <td>1</td>\n",
       "    </tr>\n",
       "    <tr>\n",
       "      <th>7</th>\n",
       "      <td>74</td>\n",
       "      <td>182</td>\n",
       "      <td>0</td>\n",
       "      <td>3</td>\n",
       "      <td>46</td>\n",
       "      <td>0</td>\n",
       "      <td>2</td>\n",
       "      <td>1</td>\n",
       "    </tr>\n",
       "    <tr>\n",
       "      <th>8</th>\n",
       "      <td>63</td>\n",
       "      <td>127</td>\n",
       "      <td>0</td>\n",
       "      <td>3</td>\n",
       "      <td>35</td>\n",
       "      <td>0</td>\n",
       "      <td>4</td>\n",
       "      <td>0</td>\n",
       "    </tr>\n",
       "    <tr>\n",
       "      <th>9</th>\n",
       "      <td>65</td>\n",
       "      <td>139</td>\n",
       "      <td>0</td>\n",
       "      <td>2</td>\n",
       "      <td>37</td>\n",
       "      <td>1</td>\n",
       "      <td>3</td>\n",
       "      <td>0</td>\n",
       "    </tr>\n",
       "    <tr>\n",
       "      <th>10</th>\n",
       "      <td>66</td>\n",
       "      <td>125</td>\n",
       "      <td>0</td>\n",
       "      <td>1</td>\n",
       "      <td>36</td>\n",
       "      <td>0</td>\n",
       "      <td>3</td>\n",
       "      <td>0</td>\n",
       "    </tr>\n",
       "    <tr>\n",
       "      <th>11</th>\n",
       "      <td>73</td>\n",
       "      <td>188</td>\n",
       "      <td>1</td>\n",
       "      <td>3</td>\n",
       "      <td>42</td>\n",
       "      <td>0</td>\n",
       "      <td>3</td>\n",
       "      <td>1</td>\n",
       "    </tr>\n",
       "    <tr>\n",
       "      <th>12</th>\n",
       "      <td>74</td>\n",
       "      <td>167</td>\n",
       "      <td>0</td>\n",
       "      <td>2</td>\n",
       "      <td>41</td>\n",
       "      <td>0</td>\n",
       "      <td>0</td>\n",
       "      <td>1</td>\n",
       "    </tr>\n",
       "    <tr>\n",
       "      <th>13</th>\n",
       "      <td>68</td>\n",
       "      <td>141</td>\n",
       "      <td>0</td>\n",
       "      <td>1</td>\n",
       "      <td>38</td>\n",
       "      <td>0</td>\n",
       "      <td>3</td>\n",
       "      <td>0</td>\n",
       "    </tr>\n",
       "  </tbody>\n",
       "</table>\n",
       "</div>"
      ],
      "text/plain": [
       "    height  weight  beard  hair_length  shoe_size  scarf  eye_color  gender\n",
       "0       71     176      1            3         44      0          0       1\n",
       "1       68     165      0            0         41      0          0       1\n",
       "2       62     132      0            2         37      1          1       0\n",
       "3       65     138      0            1         38      0          3       0\n",
       "4       70     197      1            2         43      0          3       1\n",
       "5       71     190      1            3         43      0          0       1\n",
       "6       74     201      1            0         44      0          2       1\n",
       "7       74     182      0            3         46      0          2       1\n",
       "8       63     127      0            3         35      0          4       0\n",
       "9       65     139      0            2         37      1          3       0\n",
       "10      66     125      0            1         36      0          3       0\n",
       "11      73     188      1            3         42      0          3       1\n",
       "12      74     167      0            2         41      0          0       1\n",
       "13      68     141      0            1         38      0          3       0"
      ]
     },
     "execution_count": 92,
     "metadata": {},
     "output_type": "execute_result"
    }
   ],
   "source": [
    "gender_prediction_df.head(14)"
   ]
  },
  {
   "cell_type": "markdown",
   "id": "fb059770",
   "metadata": {},
   "source": [
    "# Class ratio (male vs female) "
   ]
  },
  {
   "cell_type": "code",
   "execution_count": 93,
   "id": "bc5509c0",
   "metadata": {},
   "outputs": [
    {
     "data": {
      "image/png": "[encoded data removed]",
      "text/plain": [
       "<Figure size 432x288 with 1 Axes>"
      ]
     },
     "metadata": {},
     "output_type": "display_data"
    }
   ],
   "source": [
    "gender = ['Male','Female']\n",
    "m=gender_prediction_df['gender']== 1\n",
    "f=gender_prediction_df['gender']== 0\n",
    "male = len(gender_prediction_df[m])\n",
    "female = len(gender_prediction_df[f])\n",
    "count = [male, female]\n",
    "plt.pie(count, labels = gender, autopct='%1.1f%%')\n",
    "plt.show()"
   ]
  },
  {
   "cell_type": "code",
   "execution_count": 94,
   "id": "9577ccb0",
   "metadata": {},
   "outputs": [
    {
     "name": "stdout",
     "output_type": "stream",
     "text": [
      "Ratio of males:  46 / 80\n",
      "Ratio of females:  34 / 80\n"
     ]
    }
   ],
   "source": [
    "length = len(genders_df)\n",
    "print('Ratio of males: ', male,'/',length)\n",
    "print('Ratio of females: ', female,'/',length)"
   ]
  },
  {
   "cell_type": "code",
   "execution_count": 26,
   "id": "259fece5",
   "metadata": {},
   "outputs": [
    {
     "data": {
      "text/plain": [
       "<AxesSubplot:xlabel='gender', ylabel='count'>"
      ]
     },
     "execution_count": 26,
     "metadata": {},
     "output_type": "execute_result"
    },
    {
     "data": {
      "image/png": "[encoded data removed]",
      "text/plain": [
       "<Figure size 288x288 with 1 Axes>"
      ]
     },
     "metadata": {
      "needs_background": "light"
     },
     "output_type": "display_data"
    }
   ],
   "source": [
    "fig = plt.figure(figsize=(4, 4))\n",
    "sns.countplot(x='gender', data= genders_df)"
   ]
  },
  {
   "cell_type": "markdown",
   "id": "5ca30510",
   "metadata": {},
   "source": [
    "#  Standard train/test split"
   ]
  },
  {
   "cell_type": "code",
   "execution_count": 95,
   "id": "3706d4c3",
   "metadata": {},
   "outputs": [],
   "source": [
    "#seperating dependent and independent variables\n",
    "dx = gender_prediction_df.drop(['gender'], axis = 1)\n",
    "dy = gender_prediction_df['gender']"
   ]
  },
  {
   "cell_type": "code",
   "execution_count": 96,
   "id": "0fd35485",
   "metadata": {},
   "outputs": [
    {
     "data": {
      "text/plain": [
       "0     1\n",
       "1     1\n",
       "2     0\n",
       "3     0\n",
       "4     1\n",
       "     ..\n",
       "75    0\n",
       "76    0\n",
       "77    1\n",
       "78    1\n",
       "79    0\n",
       "Name: gender, Length: 80, dtype: int64"
      ]
     },
     "execution_count": 96,
     "metadata": {},
     "output_type": "execute_result"
    }
   ],
   "source": [
    "dy"
   ]
  },
  {
   "cell_type": "code",
   "execution_count": 98,
   "id": "e9b10a80",
   "metadata": {},
   "outputs": [
    {
     "data": {
      "text/html": [
       "<div>\n",
       "<style scoped>\n",
       "    .dataframe tbody tr th:only-of-type {\n",
       "        vertical-align: middle;\n",
       "    }\n",
       "\n",
       "    .dataframe tbody tr th {\n",
       "        vertical-align: top;\n",
       "    }\n",
       "\n",
       "    .dataframe thead th {\n",
       "        text-align: right;\n",
       "    }\n",
       "</style>\n",
       "<table border=\"1\" class=\"dataframe\">\n",
       "  <thead>\n",
       "    <tr style=\"text-align: right;\">\n",
       "      <th></th>\n",
       "      <th>height</th>\n",
       "      <th>weight</th>\n",
       "      <th>beard</th>\n",
       "      <th>hair_length</th>\n",
       "      <th>shoe_size</th>\n",
       "      <th>scarf</th>\n",
       "      <th>eye_color</th>\n",
       "    </tr>\n",
       "  </thead>\n",
       "  <tbody>\n",
       "    <tr>\n",
       "      <th>0</th>\n",
       "      <td>71</td>\n",
       "      <td>176</td>\n",
       "      <td>1</td>\n",
       "      <td>3</td>\n",
       "      <td>44</td>\n",
       "      <td>0</td>\n",
       "      <td>0</td>\n",
       "    </tr>\n",
       "    <tr>\n",
       "      <th>1</th>\n",
       "      <td>68</td>\n",
       "      <td>165</td>\n",
       "      <td>0</td>\n",
       "      <td>0</td>\n",
       "      <td>41</td>\n",
       "      <td>0</td>\n",
       "      <td>0</td>\n",
       "    </tr>\n",
       "    <tr>\n",
       "      <th>2</th>\n",
       "      <td>62</td>\n",
       "      <td>132</td>\n",
       "      <td>0</td>\n",
       "      <td>2</td>\n",
       "      <td>37</td>\n",
       "      <td>1</td>\n",
       "      <td>1</td>\n",
       "    </tr>\n",
       "    <tr>\n",
       "      <th>3</th>\n",
       "      <td>65</td>\n",
       "      <td>138</td>\n",
       "      <td>0</td>\n",
       "      <td>1</td>\n",
       "      <td>38</td>\n",
       "      <td>0</td>\n",
       "      <td>3</td>\n",
       "    </tr>\n",
       "    <tr>\n",
       "      <th>4</th>\n",
       "      <td>70</td>\n",
       "      <td>197</td>\n",
       "      <td>1</td>\n",
       "      <td>2</td>\n",
       "      <td>43</td>\n",
       "      <td>0</td>\n",
       "      <td>3</td>\n",
       "    </tr>\n",
       "    <tr>\n",
       "      <th>...</th>\n",
       "      <td>...</td>\n",
       "      <td>...</td>\n",
       "      <td>...</td>\n",
       "      <td>...</td>\n",
       "      <td>...</td>\n",
       "      <td>...</td>\n",
       "      <td>...</td>\n",
       "    </tr>\n",
       "    <tr>\n",
       "      <th>75</th>\n",
       "      <td>65</td>\n",
       "      <td>99</td>\n",
       "      <td>0</td>\n",
       "      <td>3</td>\n",
       "      <td>39</td>\n",
       "      <td>1</td>\n",
       "      <td>4</td>\n",
       "    </tr>\n",
       "    <tr>\n",
       "      <th>76</th>\n",
       "      <td>61</td>\n",
       "      <td>98</td>\n",
       "      <td>0</td>\n",
       "      <td>3</td>\n",
       "      <td>37</td>\n",
       "      <td>0</td>\n",
       "      <td>2</td>\n",
       "    </tr>\n",
       "    <tr>\n",
       "      <th>77</th>\n",
       "      <td>67</td>\n",
       "      <td>119</td>\n",
       "      <td>1</td>\n",
       "      <td>3</td>\n",
       "      <td>40</td>\n",
       "      <td>0</td>\n",
       "      <td>0</td>\n",
       "    </tr>\n",
       "    <tr>\n",
       "      <th>78</th>\n",
       "      <td>70</td>\n",
       "      <td>190</td>\n",
       "      <td>1</td>\n",
       "      <td>2</td>\n",
       "      <td>43</td>\n",
       "      <td>0</td>\n",
       "      <td>3</td>\n",
       "    </tr>\n",
       "    <tr>\n",
       "      <th>79</th>\n",
       "      <td>62</td>\n",
       "      <td>142</td>\n",
       "      <td>1</td>\n",
       "      <td>1</td>\n",
       "      <td>37</td>\n",
       "      <td>0</td>\n",
       "      <td>1</td>\n",
       "    </tr>\n",
       "  </tbody>\n",
       "</table>\n",
       "<p>80 rows × 7 columns</p>\n",
       "</div>"
      ],
      "text/plain": [
       "    height  weight  beard  hair_length  shoe_size  scarf  eye_color\n",
       "0       71     176      1            3         44      0          0\n",
       "1       68     165      0            0         41      0          0\n",
       "2       62     132      0            2         37      1          1\n",
       "3       65     138      0            1         38      0          3\n",
       "4       70     197      1            2         43      0          3\n",
       "..     ...     ...    ...          ...        ...    ...        ...\n",
       "75      65      99      0            3         39      1          4\n",
       "76      61      98      0            3         37      0          2\n",
       "77      67     119      1            3         40      0          0\n",
       "78      70     190      1            2         43      0          3\n",
       "79      62     142      1            1         37      0          1\n",
       "\n",
       "[80 rows x 7 columns]"
      ]
     },
     "execution_count": 98,
     "metadata": {},
     "output_type": "execute_result"
    }
   ],
   "source": [
    "dx"
   ]
  },
  {
   "cell_type": "code",
   "execution_count": 257,
   "id": "eedec89b",
   "metadata": {},
   "outputs": [],
   "source": [
    "#Applying train-test split\n",
    "X_train, X_test, Y_train, Y_test = train_test_split(dx, dy, stratify=dy, test_size=0.33, random_state = 42)\n",
    "x_train, x_test, y_train, y_test = train_test_split(dx, dy, stratify=dy, test_size=0.2, random_state = 42)"
   ]
  },
  {
   "cell_type": "markdown",
   "id": "b2cc216e",
   "metadata": {},
   "source": [
    "# Appyling Support Vector Machines for 67-33%"
   ]
  },
  {
   "cell_type": "code",
   "execution_count": 259,
   "id": "a6f93ea4",
   "metadata": {},
   "outputs": [
    {
     "name": "stdout",
     "output_type": "stream",
     "text": [
      "The accuracy of LinearSVC Classifier :  100.0 %\n",
      "Confusion matrix:\n",
      "[[11  0]\n",
      " [ 0 16]]\n",
      "Classification Report:\n",
      "              precision    recall  f1-score   support\n",
      "\n",
      "           0       1.00      1.00      1.00        11\n",
      "           1       1.00      1.00      1.00        16\n",
      "\n",
      "    accuracy                           1.00        27\n",
      "   macro avg       1.00      1.00      1.00        27\n",
      "weighted avg       1.00      1.00      1.00        27\n",
      "\n"
     ]
    }
   ],
   "source": [
    "#67-33%\n",
    "Linear_SVC = svm.SVC(kernel='linear')\n",
    "\n",
    "Linear_SVC.fit(X_train, Y_train)\n",
    "\n",
    "y_predict= Linear_SVC.predict(X_test)\n",
    "\n",
    "accuracy_LinearSVC = round(accuracy_score(Y_test, y_predict) * 100, 2)\n",
    "print(\"The accuracy of LinearSVC Classifier : \",accuracy_LinearSVC , \"%\")\n",
    "\n",
    "con_matrix = metrics.confusion_matrix(Y_test, y_predict)\n",
    "print('Confusion matrix:')\n",
    "print(con_matrix)\n",
    "\n",
    "class_report = metrics.classification_report(Y_test, y_predict)\n",
    "print('Classification Report:')\n",
    "print(class_report)"
   ]
  },
  {
   "cell_type": "code",
   "execution_count": 243,
   "id": "cbd946f5",
   "metadata": {},
   "outputs": [
    {
     "name": "stdout",
     "output_type": "stream",
     "text": [
      "The accuracy of LinearSVC Classifier :  100.0 %\n",
      "Confusion matrix:\n",
      "[[7 0]\n",
      " [0 9]]\n",
      "Classification Report:\n",
      "              precision    recall  f1-score   support\n",
      "\n",
      "           0       1.00      1.00      1.00         7\n",
      "           1       1.00      1.00      1.00         9\n",
      "\n",
      "    accuracy                           1.00        16\n",
      "   macro avg       1.00      1.00      1.00        16\n",
      "weighted avg       1.00      1.00      1.00        16\n",
      "\n"
     ]
    }
   ],
   "source": [
    "#80-20%\n",
    "Linear_SVC = svm.SVC(kernel='linear')\n",
    "\n",
    "Linear_SVC.fit(x_train, y_train)\n",
    "\n",
    "y_predict= Linear_SVC.predict(x_test)\n",
    "\n",
    "accuracy_LinearSVC = round(accuracy_score(y_test, y_predict) * 100, 2)\n",
    "print(\"The accuracy of LinearSVC Classifier : \",accuracy_LinearSVC , \"%\")\n",
    "\n",
    "con_matrix = metrics.confusion_matrix(y_test, y_predict)\n",
    "print('Confusion matrix:')\n",
    "print(con_matrix)\n",
    "\n",
    "class_report = metrics.classification_report(y_test, y_predict)\n",
    "print('Classification Report:')\n",
    "print(class_report)"
   ]
  },
  {
   "cell_type": "markdown",
   "id": "5b39269e",
   "metadata": {},
   "source": [
    "# Random Forrest"
   ]
  },
  {
   "cell_type": "code",
   "execution_count": 44,
   "id": "d18e24a7",
   "metadata": {},
   "outputs": [
    {
     "name": "stdout",
     "output_type": "stream",
     "text": [
      "The accuracy of Random Forrest Classifier :  100.0 %\n",
      "Confusion matrix:\n",
      "[[7 0]\n",
      " [0 9]]\n",
      "Classification Report:\n",
      "              precision    recall  f1-score   support\n",
      "\n",
      "           0       1.00      1.00      1.00         7\n",
      "           1       1.00      1.00      1.00         9\n",
      "\n",
      "    accuracy                           1.00        16\n",
      "   macro avg       1.00      1.00      1.00        16\n",
      "weighted avg       1.00      1.00      1.00        16\n",
      "\n"
     ]
    }
   ],
   "source": [
    "#67-33%\n",
    "random_forest = RandomForestClassifier(n_estimators=10)\n",
    "\n",
    "random_forest.fit(X_train, Y_train)\n",
    "\n",
    "y_prediction = random_forest.predict(X_test)\n",
    "\n",
    "accuracy_rf = round(accuracy_score(Y_test, y_prediction) * 100, 2)\n",
    "print(\"The accuracy of Random Forrest Classifier : \",accuracy_rf , \"%\")\n",
    "\n",
    "con_matrix = metrics.confusion_matrix(Y_test, y_prediction)\n",
    "print('Confusion matrix:')\n",
    "print(con_matrix)\n",
    "\n",
    "class_report = metrics.classification_report(Y_test, y_prediction)\n",
    "print('Classification Report:')\n",
    "print(class_report)"
   ]
  },
  {
   "cell_type": "code",
   "execution_count": 262,
   "id": "4290983f",
   "metadata": {},
   "outputs": [
    {
     "name": "stdout",
     "output_type": "stream",
     "text": [
      "The accuracy of Random Forrest Classifier :  93.75 %\n",
      "Confusion matrix:\n",
      "[[6 1]\n",
      " [0 9]]\n",
      "Classification Report:\n",
      "              precision    recall  f1-score   support\n",
      "\n",
      "           0       1.00      0.86      0.92         7\n",
      "           1       0.90      1.00      0.95         9\n",
      "\n",
      "    accuracy                           0.94        16\n",
      "   macro avg       0.95      0.93      0.94        16\n",
      "weighted avg       0.94      0.94      0.94        16\n",
      "\n"
     ]
    }
   ],
   "source": [
    "#80-20%\n",
    "random_forest = RandomForestClassifier(n_estimators=10)\n",
    "\n",
    "random_forest.fit(x_train, y_train)\n",
    "\n",
    "y_prediction = random_forest.predict(x_test)\n",
    "\n",
    "accuracy_rf = round(accuracy_score(y_test, y_prediction) * 100, 2)\n",
    "print(\"The accuracy of Random Forrest Classifier : \",accuracy_rf , \"%\")\n",
    "\n",
    "con_matrix = metrics.confusion_matrix(y_test, y_prediction)\n",
    "print('Confusion matrix:')\n",
    "print(con_matrix)\n",
    "\n",
    "class_report = metrics.classification_report(y_test, y_prediction)\n",
    "print('Classification Report:')\n",
    "print(class_report)"
   ]
  },
  {
   "cell_type": "code",
   "execution_count": 184,
   "id": "855958a6",
   "metadata": {},
   "outputs": [
    {
     "data": {
      "image/png": "[encoded data removed]",
      "text/plain": [
       "<Figure size 432x288 with 2 Axes>"
      ]
     },
     "metadata": {
      "needs_background": "light"
     },
     "output_type": "display_data"
    }
   ],
   "source": [
    "confusion_matrix = confusion_matrix(y_test, y_prediction)\n",
    "\n",
    "cm_display = ConfusionMatrixDisplay(confusion_matrix = confusion_matrix,\n",
    "                                    display_labels = ['Male', 'Female'])\n",
    "cm_display.plot()\n",
    "plt.show()"
   ]
  },
  {
   "cell_type": "markdown",
   "id": "b5dab515",
   "metadata": {},
   "source": [
    "# Multilayer Perceptron Classifier "
   ]
  },
  {
   "cell_type": "code",
   "execution_count": 276,
   "id": "9e5654d2",
   "metadata": {},
   "outputs": [
    {
     "name": "stdout",
     "output_type": "stream",
     "text": [
      "The accuracy of Multilayer Perceptron Classifier :  92.59 %\n",
      "Confusion matrix:\n",
      "[[10  1]\n",
      " [ 1 15]]\n",
      "Classification Report:\n",
      "              precision    recall  f1-score   support\n",
      "\n",
      "           0       0.91      0.91      0.91        11\n",
      "           1       0.94      0.94      0.94        16\n",
      "\n",
      "    accuracy                           0.93        27\n",
      "   macro avg       0.92      0.92      0.92        27\n",
      "weighted avg       0.93      0.93      0.93        27\n",
      "\n"
     ]
    },
    {
     "name": "stderr",
     "output_type": "stream",
     "text": [
      "D:\\Anaconda\\lib\\site-packages\\sklearn\\neural_network\\_multilayer_perceptron.py:692: ConvergenceWarning: Stochastic Optimizer: Maximum iterations (200) reached and the optimization hasn't converged yet.\n",
      "  warnings.warn(\n"
     ]
    }
   ],
   "source": [
    "#67-33% split\n",
    "MLP = MLPClassifier()\n",
    "\n",
    "MLP.fit(X_train, Y_train)\n",
    "\n",
    "y_pred = MLP.predict(X_test)\n",
    "\n",
    "acc_MLP = round(accuracy_score(Y_test, y_pred) * 100, 2)\n",
    "print(\"The accuracy of Multilayer Perceptron Classifier : \",acc_MLP , \"%\")\n",
    "\n",
    "con_matrix = metrics.confusion_matrix(Y_test, y_pred)\n",
    "print('Confusion matrix:')\n",
    "print(con_matrix)\n",
    "\n",
    "class_report = metrics.classification_report(Y_test, y_pred)\n",
    "print('Classification Report:')\n",
    "print(class_report)"
   ]
  },
  {
   "cell_type": "code",
   "execution_count": 53,
   "id": "96f4a573",
   "metadata": {},
   "outputs": [
    {
     "data": {
      "image/png": "[encoded data removed]",
      "text/plain": [
       "<Figure size 432x288 with 2 Axes>"
      ]
     },
     "metadata": {
      "needs_background": "light"
     },
     "output_type": "display_data"
    }
   ],
   "source": [
    "confusion_matrix = confusion_matrix(Y_test, y_pred)\n",
    "\n",
    "cm_display = ConfusionMatrixDisplay(confusion_matrix = confusion_matrix,\n",
    "                                    display_labels = ['Male', 'Female'])\n",
    "cm_display.plot()\n",
    "plt.show()"
   ]
  },
  {
   "cell_type": "code",
   "execution_count": 218,
   "id": "718d3995",
   "metadata": {},
   "outputs": [
    {
     "name": "stdout",
     "output_type": "stream",
     "text": [
      "The accuracy of Multilayer Perceptron Classifier :  87.5 %\n",
      "Confusion matrix:\n",
      "[[5 2]\n",
      " [0 9]]\n",
      "Classification Report:\n",
      "              precision    recall  f1-score   support\n",
      "\n",
      "           0       1.00      0.71      0.83         7\n",
      "           1       0.82      1.00      0.90         9\n",
      "\n",
      "    accuracy                           0.88        16\n",
      "   macro avg       0.91      0.86      0.87        16\n",
      "weighted avg       0.90      0.88      0.87        16\n",
      "\n"
     ]
    },
    {
     "name": "stderr",
     "output_type": "stream",
     "text": [
      "D:\\Anaconda\\lib\\site-packages\\sklearn\\neural_network\\_multilayer_perceptron.py:692: ConvergenceWarning: Stochastic Optimizer: Maximum iterations (200) reached and the optimization hasn't converged yet.\n",
      "  warnings.warn(\n"
     ]
    }
   ],
   "source": [
    "#80-20%\n",
    "MLP = MLPClassifier()\n",
    "\n",
    "MLP.fit(x_train, y_train)\n",
    "\n",
    "y_pred = MLP.predict(x_test)\n",
    "\n",
    "acc_MLP = round(accuracy_score(y_test, y_pred) * 100, 2)\n",
    "print(\"The accuracy of Multilayer Perceptron Classifier : \",acc_MLP , \"%\")\n",
    "\n",
    "con_matrix = metrics.confusion_matrix(y_test, y_pred)\n",
    "print('Confusion matrix:')\n",
    "print(con_matrix)\n",
    "\n",
    "class_report = metrics.classification_report(y_test, y_pred)\n",
    "print('Classification Report:')\n",
    "print(class_report)"
   ]
  },
  {
   "cell_type": "code",
   "execution_count": 188,
   "id": "b913ae43",
   "metadata": {},
   "outputs": [
    {
     "data": {
      "image/png": "[encoded data removed]",
      "text/plain": [
       "<Figure size 432x288 with 2 Axes>"
      ]
     },
     "metadata": {
      "needs_background": "light"
     },
     "output_type": "display_data"
    }
   ],
   "source": [
    "confusion_matrix = confusion_matrix(y_test, y_pred)\n",
    "\n",
    "cm_display = ConfusionMatrixDisplay(confusion_matrix = confusion_matrix,\n",
    "                                    display_labels = ['Male', 'Female'])\n",
    "cm_display.plot()\n",
    "plt.show()"
   ]
  },
  {
   "cell_type": "markdown",
   "id": "d865adfc",
   "metadata": {},
   "source": [
    "# Monte Carlo Cross Validation"
   ]
  },
  {
   "cell_type": "code",
   "execution_count": 330,
   "id": "62f3dddd",
   "metadata": {},
   "outputs": [
    {
     "name": "stdout",
     "output_type": "stream",
     "text": [
      "cross Validation scores:n [0.95238095 1.         0.92857143 0.96969697 0.96296296]\n",
      "Average Cross Validation score :0.9627224627224628\n"
     ]
    }
   ],
   "source": [
    "from sklearn.model_selection import ShuffleSplit,cross_val_score\n",
    "\n",
    "model = DecisionTreeClassifier()\n",
    "\n",
    "shuffle_split=ShuffleSplit(test_size=0.3,train_size=0.5,n_splits=5)\n",
    "\n",
    "scores=cross_val_score(model,dx,dy,scoring='f1',cv=shuffle_split)\n",
    "\n",
    "print(\"cross Validation scores:n {}\".format(scores))\n",
    "print(\"Average Cross Validation score for monte carlo :{}\".format(scores.mean()))"
   ]
  },
  {
   "cell_type": "markdown",
   "id": "bb095443",
   "metadata": {},
   "source": [
    "# Leave p out Cross Validation"
   ]
  },
  {
   "cell_type": "code",
   "execution_count": null,
   "id": "25a0378b",
   "metadata": {},
   "outputs": [],
   "source": [
    "from sklearn.model_selection import LeavePOut,cross_val_score\n",
    "\n",
    "model = DecisionTreeClassifier()\n",
    "\n",
    "lpo = LeavePOut(p=2)\n",
    "lpo.get_n_splits(dx)\n",
    "\n",
    "scores=cross_val_score(model,dx,dy,cv=lpo)\n",
    "\n",
    "print(\"cross Validation scores:n {}\".format(scores))\n",
    "print(\"Average Cross Validation score for leave p out  :{}\".format(scores.mean()))"
   ]
  },
  {
   "cell_type": "markdown",
   "id": "fcd0dfbc",
   "metadata": {},
   "source": [
    "# Adding New instances and Applying Gaussain Bayes"
   ]
  },
  {
   "cell_type": "code",
   "execution_count": 121,
   "id": "dfa8868e",
   "metadata": {},
   "outputs": [],
   "source": [
    "gender_prediction_df.loc[len(gender_prediction_df.index)] = [74,180,'yes','short',43,'no','black','male']\n",
    "gender_prediction_df.loc[len(gender_prediction_df.index)] = [78,174,'no','short',42,'no','blue','male']\n",
    "gender_prediction_df.loc[len(gender_prediction_df.index)] = [67,150,'no','medium',38,'no','black','female']\n",
    "gender_prediction_df.loc[len(gender_prediction_df.index)] = [75,188,'yes','short',43,'no','gray','male']\n",
    "gender_prediction_df.loc[len(gender_prediction_df.index)] = [64,145,'no','long',35,'yes','brown','female']\n"
   ]
  },
  {
   "cell_type": "code",
   "execution_count": 124,
   "id": "edc7d50a",
   "metadata": {},
   "outputs": [
    {
     "data": {
      "text/html": [
       "<div>\n",
       "<style scoped>\n",
       "    .dataframe tbody tr th:only-of-type {\n",
       "        vertical-align: middle;\n",
       "    }\n",
       "\n",
       "    .dataframe tbody tr th {\n",
       "        vertical-align: top;\n",
       "    }\n",
       "\n",
       "    .dataframe thead th {\n",
       "        text-align: right;\n",
       "    }\n",
       "</style>\n",
       "<table border=\"1\" class=\"dataframe\">\n",
       "  <thead>\n",
       "    <tr style=\"text-align: right;\">\n",
       "      <th></th>\n",
       "      <th>height</th>\n",
       "      <th>weight</th>\n",
       "      <th>beard</th>\n",
       "      <th>hair_length</th>\n",
       "      <th>shoe_size</th>\n",
       "      <th>scarf</th>\n",
       "      <th>eye_color</th>\n",
       "      <th>gender</th>\n",
       "    </tr>\n",
       "  </thead>\n",
       "  <tbody>\n",
       "    <tr>\n",
       "      <th>80</th>\n",
       "      <td>74</td>\n",
       "      <td>180</td>\n",
       "      <td>yes</td>\n",
       "      <td>short</td>\n",
       "      <td>43</td>\n",
       "      <td>no</td>\n",
       "      <td>black</td>\n",
       "      <td>male</td>\n",
       "    </tr>\n",
       "    <tr>\n",
       "      <th>81</th>\n",
       "      <td>78</td>\n",
       "      <td>174</td>\n",
       "      <td>no</td>\n",
       "      <td>short</td>\n",
       "      <td>42</td>\n",
       "      <td>no</td>\n",
       "      <td>blue</td>\n",
       "      <td>male</td>\n",
       "    </tr>\n",
       "    <tr>\n",
       "      <th>82</th>\n",
       "      <td>67</td>\n",
       "      <td>150</td>\n",
       "      <td>no</td>\n",
       "      <td>medium</td>\n",
       "      <td>38</td>\n",
       "      <td>no</td>\n",
       "      <td>black</td>\n",
       "      <td>female</td>\n",
       "    </tr>\n",
       "    <tr>\n",
       "      <th>83</th>\n",
       "      <td>75</td>\n",
       "      <td>188</td>\n",
       "      <td>yes</td>\n",
       "      <td>short</td>\n",
       "      <td>43</td>\n",
       "      <td>no</td>\n",
       "      <td>gray</td>\n",
       "      <td>male</td>\n",
       "    </tr>\n",
       "    <tr>\n",
       "      <th>84</th>\n",
       "      <td>64</td>\n",
       "      <td>145</td>\n",
       "      <td>no</td>\n",
       "      <td>long</td>\n",
       "      <td>35</td>\n",
       "      <td>yes</td>\n",
       "      <td>brown</td>\n",
       "      <td>female</td>\n",
       "    </tr>\n",
       "  </tbody>\n",
       "</table>\n",
       "</div>"
      ],
      "text/plain": [
       "    height  weight beard hair_length  shoe_size scarf eye_color  gender\n",
       "80      74     180   yes       short         43    no     black    male\n",
       "81      78     174    no       short         42    no      blue    male\n",
       "82      67     150    no      medium         38    no     black  female\n",
       "83      75     188   yes       short         43    no      gray    male\n",
       "84      64     145    no        long         35   yes     brown  female"
      ]
     },
     "execution_count": 124,
     "metadata": {},
     "output_type": "execute_result"
    }
   ],
   "source": [
    "gender_prediction_df.tail(5)"
   ]
  },
  {
   "cell_type": "code",
   "execution_count": 127,
   "id": "1d479a07",
   "metadata": {},
   "outputs": [],
   "source": [
    "label = preprocessing.LabelEncoder()\n",
    "gender_prediction_df['hair_length'] = label.fit_transform(gender_prediction_df['hair_length'])\n",
    "gender_prediction_df['beard'] = label.fit_transform(gender_prediction_df['beard'])\n",
    "gender_prediction_df['eye_color'] = label.fit_transform(gender_prediction_df['eye_color'])\n",
    "gender_prediction_df['scarf'] = label.fit_transform(gender_prediction_df['scarf'])\n",
    "gender_prediction_df['gender'] = label.fit_transform(gender_prediction_df['gender'])"
   ]
  },
  {
   "cell_type": "code",
   "execution_count": 149,
   "id": "b876634b",
   "metadata": {},
   "outputs": [],
   "source": [
    "dx = genders_df.drop(['gender'], axis = 1)\n",
    "dy = genders_df['gender']\n",
    "X_train, X_test, Y_train, Y_test = train_test_split(dx, dy, stratify=dy, test_size=0.33, random_state = 42)"
   ]
  },
  {
   "cell_type": "code",
   "execution_count": 150,
   "id": "194a2f02",
   "metadata": {},
   "outputs": [],
   "source": [
    "model = GaussianNB()\n",
    "model.fit(X_train,Y_train)\n",
    "pred = model.predict(X_test)"
   ]
  },
  {
   "cell_type": "code",
   "execution_count": 151,
   "id": "39071832",
   "metadata": {},
   "outputs": [
    {
     "name": "stdout",
     "output_type": "stream",
     "text": [
      "96.29629629629629\n"
     ]
    }
   ],
   "source": [
    "model_acc = accuracy_score(Y_test, pred)*100\n",
    "print(model_acc)"
   ]
  },
  {
   "cell_type": "code",
   "execution_count": 152,
   "id": "773322c7",
   "metadata": {
    "scrolled": true
   },
   "outputs": [
    {
     "name": "stdout",
     "output_type": "stream",
     "text": [
      "              precision    recall  f1-score   support\n",
      "\n",
      "           0       1.00      0.91      0.95        11\n",
      "           1       0.94      1.00      0.97        16\n",
      "\n",
      "    accuracy                           0.96        27\n",
      "   macro avg       0.97      0.95      0.96        27\n",
      "weighted avg       0.97      0.96      0.96        27\n",
      "\n"
     ]
    }
   ],
   "source": [
    "model_cl_rep = metrics.classification_report(Y_test, pred)\n",
    "print(model_cl_rep)"
   ]
  },
  {
   "cell_type": "code",
   "execution_count": 153,
   "id": "64139889",
   "metadata": {},
   "outputs": [
    {
     "name": "stdout",
     "output_type": "stream",
     "text": [
      "100.0\n"
     ]
    }
   ],
   "source": [
    "model_recall = recall_score(Y_test, pred)*100\n",
    "print(model_recall)"
   ]
  },
  {
   "cell_type": "code",
   "execution_count": 154,
   "id": "7db0f856",
   "metadata": {},
   "outputs": [
    {
     "name": "stdout",
     "output_type": "stream",
     "text": [
      "94.11764705882352\n"
     ]
    }
   ],
   "source": [
    "model_precision = precision_score(Y_test, pred)*100\n",
    "print(model_precision)"
   ]
  },
  {
   "cell_type": "code",
   "execution_count": 155,
   "id": "3d696507",
   "metadata": {},
   "outputs": [
    {
     "name": "stdout",
     "output_type": "stream",
     "text": [
      "[[10  1]\n",
      " [ 0 16]]\n"
     ]
    }
   ],
   "source": [
    "model_cm = metrics.confusion_matrix(Y_test, pred)\n",
    "print(model_cm)"
   ]
  },
  {
   "cell_type": "code",
   "execution_count": 334,
   "id": "95b7b430",
   "metadata": {},
   "outputs": [],
   "source": [
    "columns=X_train.columns\n",
    "dt=RandomForestClassifier(n_estimators=7)\n",
    "dt.fit(X_train,Y_train)\n",
    "feature_importance = pd.DataFrame(data={\n",
    "'Feature': columns,\n",
    "'Importance': dt.feature_importances_\n",
    "})\n",
    "\n",
    "feature_itportance = feature_importance.sort_values(by='Importance',ascending=False)\n"
   ]
  },
  {
   "cell_type": "code",
   "execution_count": 342,
   "id": "523bb4f7",
   "metadata": {},
   "outputs": [
    {
     "data": {
      "image/png": "[encoded data removed]",
      "text/plain": [
       "<Figure size 720x360 with 1 Axes>"
      ]
     },
     "metadata": {
      "needs_background": "light"
     },
     "output_type": "display_data"
    }
   ],
   "source": [
    "plt.figure(figsize=(10, 5))\n",
    "plt.bar(x=feature_importance['Feature'], height=feature_importance['Importance']),\n",
    "plt.title('Feature importances from Random Tree Classifier (a tree-based model)', size=18)\n",
    "plt.ylabel(\"Feature Importance\", size=14)\n",
    "\n",
    "plt.xlabel(\"features\", size=14)\n",
    "\n",
    "plt.xticks(rotation=45)\n",
    "\n",
    "plt.show()"
   ]
  },
  {
   "cell_type": "code",
   "execution_count": 336,
   "id": "3e21f287",
   "metadata": {},
   "outputs": [],
   "source": [
    "x = gender_prediction_df.drop(['height','shoe_size','gender'], axis = 1)\n",
    "y = gender_prediction_df['gender']"
   ]
  },
  {
   "cell_type": "code",
   "execution_count": 337,
   "id": "8fb6d7c4",
   "metadata": {},
   "outputs": [],
   "source": [
    "x_train, x_test, y_train, y_test = train_test_split(x, y, stratify=y, test_size=0.2, random_state = 42)"
   ]
  },
  {
   "cell_type": "code",
   "execution_count": 338,
   "id": "1bc29897",
   "metadata": {},
   "outputs": [
    {
     "name": "stdout",
     "output_type": "stream",
     "text": [
      "The accuracy of LinearSVC Classifier :  87.5 %\n",
      "Confusion matrix:\n",
      "[[5 2]\n",
      " [0 9]]\n",
      "Classification Report:\n",
      "              precision    recall  f1-score   support\n",
      "\n",
      "           0       1.00      0.71      0.83         7\n",
      "           1       0.82      1.00      0.90         9\n",
      "\n",
      "    accuracy                           0.88        16\n",
      "   macro avg       0.91      0.86      0.87        16\n",
      "weighted avg       0.90      0.88      0.87        16\n",
      "\n"
     ]
    }
   ],
   "source": [
    "#80-20% SVC\n",
    "SVC_model = svm.SVC(kernel='linear')\n",
    "\n",
    "SVC_model.fit(x_train, y_train)\n",
    "\n",
    "y_predict= SVC_model.predict(x_test)\n",
    "\n",
    "accuracy_LinearSVC = round(accuracy_score(y_test, y_predict) * 100, 2)\n",
    "print(\"The accuracy of LinearSVC Classifier : \",accuracy_LinearSVC , \"%\")\n",
    "\n",
    "con_matrix = metrics.confusion_matrix(y_test, y_predict)\n",
    "print('Confusion matrix:')\n",
    "print(con_matrix)\n",
    "\n",
    "class_report = metrics.classification_report(y_test, y_predict)\n",
    "print('Classification Report:')\n",
    "print(class_report)"
   ]
  },
  {
   "cell_type": "code",
   "execution_count": 339,
   "id": "8c1ba700",
   "metadata": {},
   "outputs": [
    {
     "name": "stdout",
     "output_type": "stream",
     "text": [
      "The accuracy of Random Forrest Classifier :  87.5 %\n",
      "Confusion matrix:\n",
      "[[5 2]\n",
      " [0 9]]\n",
      "Classification Report:\n",
      "              precision    recall  f1-score   support\n",
      "\n",
      "           0       1.00      0.71      0.83         7\n",
      "           1       0.82      1.00      0.90         9\n",
      "\n",
      "    accuracy                           0.88        16\n",
      "   macro avg       0.91      0.86      0.87        16\n",
      "weighted avg       0.90      0.88      0.87        16\n",
      "\n"
     ]
    }
   ],
   "source": [
    "#80-20%\n",
    "random_forest = RandomForestClassifier(n_estimators=10)\n",
    "\n",
    "random_forest.fit(x_train, y_train)\n",
    "\n",
    "y_prediction = random_forest.predict(x_test)\n",
    "\n",
    "accuracy_rf = round(accuracy_score(y_test, y_prediction) * 100, 2)\n",
    "print(\"The accuracy of Random Forrest Classifier : \",accuracy_rf , \"%\")\n",
    "\n",
    "con_matrix = metrics.confusion_matrix(y_test, y_prediction)\n",
    "print('Confusion matrix:')\n",
    "print(con_matrix)\n",
    "\n",
    "class_report = metrics.classification_report(y_test, y_prediction)\n",
    "print('Classification Report:')\n",
    "print(class_report)"
   ]
  },
  {
   "cell_type": "code",
   "execution_count": 341,
   "id": "2ebbf38d",
   "metadata": {},
   "outputs": [
    {
     "name": "stdout",
     "output_type": "stream",
     "text": [
      "The accuracy of Multilayer Perceptron Classifier :  93.75 %\n",
      "Confusion matrix:\n",
      "[[6 1]\n",
      " [0 9]]\n",
      "Classification Report:\n",
      "              precision    recall  f1-score   support\n",
      "\n",
      "           0       1.00      0.86      0.92         7\n",
      "           1       0.90      1.00      0.95         9\n",
      "\n",
      "    accuracy                           0.94        16\n",
      "   macro avg       0.95      0.93      0.94        16\n",
      "weighted avg       0.94      0.94      0.94        16\n",
      "\n"
     ]
    },
    {
     "name": "stderr",
     "output_type": "stream",
     "text": [
      "D:\\Anaconda\\lib\\site-packages\\sklearn\\neural_network\\_multilayer_perceptron.py:692: ConvergenceWarning: Stochastic Optimizer: Maximum iterations (200) reached and the optimization hasn't converged yet.\n",
      "  warnings.warn(\n"
     ]
    }
   ],
   "source": [
    "#80-20%\n",
    "MLP = MLPClassifier()\n",
    "\n",
    "MLP.fit(x_train, y_train)\n",
    "\n",
    "y_pred = MLP.predict(x_test)\n",
    "\n",
    "acc_MLP = round(accuracy_score(y_test, y_pred) * 100, 2)\n",
    "print(\"The accuracy of Multilayer Perceptron Classifier : \",acc_MLP , \"%\")\n",
    "\n",
    "con_matrix = metrics.confusion_matrix(y_test, y_pred)\n",
    "print('Confusion matrix:')\n",
    "print(con_matrix)\n",
    "\n",
    "class_report = metrics.classification_report(y_test, y_pred)\n",
    "print('Classification Report:')\n",
    "print(class_report)"
   ]
  },
  {
   "cell_type": "code",
   "execution_count": null,
   "id": "5ddee1f3",
   "metadata": {},
   "outputs": [],
   "source": []
  },
  {
   "cell_type": "code",
   "execution_count": null,
   "id": "976cd9c4",
   "metadata": {},
   "outputs": [],
   "source": []
  }
 ],
 "metadata": {
  "kernelspec": {
   "display_name": "Python 3 (ipykernel)",
   "language": "python",
   "name": "python3"
  },
  "language_info": {
   "codemirror_mode": {
    "name": "ipython",
    "version": 3
   },
   "file_extension": ".py",
   "mimetype": "text/x-python",
   "name": "python",
   "nbconvert_exporter": "python",
   "pygments_lexer": "ipython3",
   "version": "3.9.12"
  }
 },
 "nbformat": 4,
 "nbformat_minor": 5
}
